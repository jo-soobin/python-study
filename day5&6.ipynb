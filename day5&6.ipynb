{
  "nbformat": 4,
  "nbformat_minor": 0,
  "metadata": {
    "colab": {
      "name": "day5.ipynb의 사본",
      "provenance": [],
      "collapsed_sections": [],
      "include_colab_link": true
    },
    "kernelspec": {
      "name": "python3",
      "display_name": "Python 3"
    },
    "language_info": {
      "name": "python"
    }
  },
  "cells": [
    {
      "cell_type": "markdown",
      "metadata": {
        "id": "view-in-github",
        "colab_type": "text"
      },
      "source": [
        "<a href=\"https://colab.research.google.com/github/jo-soobin/python-study/blob/main/day5%266.ipynb\" target=\"_parent\"><img src=\"https://colab.research.google.com/assets/colab-badge.svg\" alt=\"Open In Colab\"/></a>"
      ]
    },
    {
      "cell_type": "code",
      "source": [
        "def user_input(city,*args):\n",
        "  city = input('도시를 입력하세요')\n",
        "  return city"
      ],
      "metadata": {
        "id": "X8GxCE9gAHXR"
      },
      "execution_count": null,
      "outputs": []
    },
    {
      "cell_type": "code",
      "source": [
        "def user_output(*args):\n",
        "  num = city[:3]\n",
        "  return num"
      ],
      "metadata": {
        "id": "_D8iub4TAhZZ"
      },
      "execution_count": null,
      "outputs": []
    },
    {
      "cell_type": "code",
      "source": [
        "def main(name , *args):\n",
        "  print('값을 입력하세요')\n",
        "  user_input(*args)\n",
        "  user_output(*args)"
      ],
      "metadata": {
        "id": "KnH6Bft9A1VY"
      },
      "execution_count": null,
      "outputs": []
    },
    {
      "cell_type": "code",
      "source": [
        "kor = [49, 80, 20, 100, 80]\n",
        "mat = [43, 60, 85, 30, 90]\n",
        "eng = [49, 82, 48, 50, 100]\n",
        "\n",
        "exam = [kor, mat, eng]\n",
        "exam_mean = []\n",
        "for i in range(5):\n",
        "  sum = 0\n",
        "  for j in range(3):\n",
        "    sum += exam[j][i]\n",
        "  avg = sum//3\n",
        "  exam_mean.append(avg)\n",
        "print(exam_mean)"
      ],
      "metadata": {
        "colab": {
          "base_uri": "https://localhost:8080/"
        },
        "id": "BZUkUTG-vsff",
        "outputId": "fa2d7220-0db1-4c22-ae33-9abf4ce7dc33"
      },
      "execution_count": null,
      "outputs": [
        {
          "output_type": "stream",
          "name": "stdout",
          "text": [
            "[47, 74, 51, 60, 90]\n"
          ]
        }
      ]
    },
    {
      "cell_type": "markdown",
      "source": [
        "# 가위바위보 게임\n",
        "- 총 10게임 \n",
        "- 다음과 같이 결과 출력되도록 만들어 보세요\n",
        "- 결과는 항상 달라야 합니다.\n",
        "- 단 잘못내는 경우는 패로 기록됨\n",
        "\n",
        "- 가위바위보를 항상 다르게 뽑는 방법은?\n",
        "  - 리스트에 10개를 넣어서 랜덤으로 뽑던가\n",
        "  - 랜덤으로 뽑아서 리스트에 10개를 넣던가\n",
        "\n",
        "```\n",
        "가위,바위,보: 가위\n",
        "이겼다\n",
        "가위,바위,보: 가위\n",
        "비겼습니다.\n",
        "가위,바위,보: 보\n",
        "비겼습니다.\n",
        "가위,바위,보: 가위\n",
        "비겼습니다.\n",
        "가위,바위,보: 바위\n",
        "이겼다\n",
        "가위,바위,보: 보\n",
        "이겼다\n",
        "가위,바위,보: 가위\n",
        "이겼다\n",
        "가위,바위,보: 바위\n",
        "졌다\n",
        "가위,바위,보: 모\n",
        "잘못내셨습니다.\n",
        "가위,바위,보: 보\n",
        "비겼습니다.\n",
        "승:4\n",
        "패:2\n",
        "비김:4\n",
        "``` "
      ],
      "metadata": {
        "id": "QKzvAjQt1y1F"
      }
    },
    {
      "cell_type": "code",
      "source": [
        ""
      ],
      "metadata": {
        "id": "-a84kjrI2pCF"
      },
      "execution_count": null,
      "outputs": []
    },
    {
      "cell_type": "code",
      "source": [
        "list_1 = [\"가위\", \"바위\", \"보\", \"가위\", \"바위\", \"보\", \"가위\", \"바위\", \"보\", \"가위\", \"바위\"] "
      ],
      "metadata": {
        "id": "2xZ1woit3D8h"
      },
      "execution_count": null,
      "outputs": []
    },
    {
      "cell_type": "markdown",
      "source": [
        "- 가위 바위 보\n",
        "\n",
        "ver0\n",
        "- 가위 userinput\n",
        "  - 가위 : 비겼다.\n",
        "  - 바위 : 졌다. \n",
        "  - 보 : 이겼다.\n",
        "- 바위\n",
        "  - 가위 : 이겼다. \n",
        "  - 바위 : 비겼다. \n",
        "  - 보 : 졌다. \n",
        "- 보\n",
        "  - 가위 : 졌다. \n",
        "  - 바위 : 이겼다.\n",
        "  - 보 : 비겼다. \n",
        "\n",
        "ver1\n",
        "- if srp == user_input\n",
        "  - 비겼다. \n",
        "- else\n",
        "  - 가위 userinput\n",
        "    - 바위 : 졌다. \n",
        "    - 보 : 이겼다.\n",
        "  - 바위\n",
        "    - 가위 : 이겼다. \n",
        "    - 보 : 졌다. \n",
        "  - 보\n",
        "    - 가위 : 졌다. \n",
        "    - 바위 : 이겼다.\n",
        "\n",
        "\n",
        "ver2\n",
        "- if srp == user_input\n",
        "  - 비겼다. \n",
        "\n",
        "- elif (userinput == 가위 and srp == 보)or(userinput == 바위 and srp == 가위)or(userinput == 보 and srp == 바위)\n",
        "  - 이겼다. \n",
        "\n",
        "- else: \n",
        "  - print(\"\") "
      ],
      "metadata": {
        "id": "BpJ5Aazo3XoF"
      }
    },
    {
      "cell_type": "code",
      "source": [
        "list_1 = [\"가위\", \"바위\", \"보\", \"가위\", \"바위\", \"보\", \"가위\", \"바위\", \"보\", \"가위\", \"바위\"] \n",
        "for srp in list_1:\n",
        "  user_input  = input(\"가위 바위 보 : \")\n",
        "  if srp == user_input:\n",
        "    print(\"비겼습니다.\")\n",
        "  else:\n",
        "    if user_input == \"가위\":\n",
        "      if srp == \"바위\":\n",
        "        print(\"졌다.\")\n",
        "      else:\n",
        "        print(\"이겼다.\")\n",
        "\n",
        "    elif user_input == \"바위\":\n",
        "      if srp == \"보\":\n",
        "        print(\"졌다.\")\n",
        "      else:\n",
        "        print(\"이겼다.\")\n",
        "\n",
        "    elif user_input == \"보\":\n",
        "      if srp == \"가위\":\n",
        "        print(\"졌다.\")\n",
        "      else:\n",
        "        print(\"이겼다.\")\n",
        "\n",
        "    else:\n",
        "      print(\"잘못내셨습니다.\")\n"
      ],
      "metadata": {
        "colab": {
          "base_uri": "https://localhost:8080/"
        },
        "id": "mz8Ybw-P3IAV",
        "outputId": "2879361b-763a-4797-de66-0021848e0ddb"
      },
      "execution_count": null,
      "outputs": [
        {
          "output_type": "stream",
          "name": "stdout",
          "text": [
            "가위 바위 보 : 가위\n",
            "비겼습니다.\n",
            "가위 바위 보 : 바위\n",
            "비겼습니다.\n",
            "가위 바위 보 : 보\n",
            "비겼습니다.\n",
            "가위 바위 보 : 바위\n",
            "이겼다.\n",
            "가위 바위 보 : 보\n",
            "이겼다.\n",
            "가위 바위 보 : 가위\n",
            "이겼다.\n",
            "가위 바위 보 : 보\n",
            "졌다.\n",
            "가위 바위 보 : 가위\n",
            "졌다.\n",
            "가위 바위 보 : 바위\n",
            "졌다.\n",
            "가위 바위 보 : 가위\n",
            "비겼습니다.\n",
            "가위 바위 보 : 가위\n",
            "졌다.\n"
          ]
        }
      ]
    },
    {
      "cell_type": "code",
      "source": [
        "# 승무패 해결\n",
        "# - 승무패를 계산할수 있는 변수를 만들고 0으로 초기화 시킨다. "
      ],
      "metadata": {
        "id": "Ys-7UEpi6fcG"
      },
      "execution_count": null,
      "outputs": []
    },
    {
      "cell_type": "code",
      "source": [
        "a = 0\n",
        "for i in range(10):\n",
        "  a += 1\n"
      ],
      "metadata": {
        "id": "IXrd-Yh67FCG"
      },
      "execution_count": null,
      "outputs": []
    },
    {
      "cell_type": "code",
      "source": [
        "a"
      ],
      "metadata": {
        "colab": {
          "base_uri": "https://localhost:8080/"
        },
        "id": "_jhNBbew7KCI",
        "outputId": "20ad091b-835b-4b2d-c8ab-670f7b095643"
      },
      "execution_count": null,
      "outputs": [
        {
          "output_type": "execute_result",
          "data": {
            "text/plain": [
              "10"
            ]
          },
          "metadata": {},
          "execution_count": 5
        }
      ]
    },
    {
      "cell_type": "code",
      "source": [
        "list_1 = [\"가위\", \"바위\", \"보\", \"가위\", \"바위\", \"보\", \"가위\", \"바위\", \"보\", \"가위\", \"바위\"] \n",
        "win = 0 \n",
        "lose = 0 \n",
        "draw = 0 \n",
        "for srp in list_1:\n",
        "  user_input  = input(\"가위 바위 보 : \")\n",
        "  if srp == user_input:\n",
        "    print(\"비겼습니다.\")\n",
        "    draw += 1\n",
        "  else:\n",
        "    if user_input == \"가위\":\n",
        "      if srp == \"바위\":\n",
        "        print(\"졌다.\")\n",
        "        lose += 1\n",
        "      else:\n",
        "        print(\"이겼다.\")\n",
        "        win += 1\n",
        "\n",
        "    elif user_input == \"바위\":\n",
        "      if srp == \"보\":\n",
        "        print(\"졌다.\")\n",
        "        lose += 1\n",
        "      else:\n",
        "        print(\"이겼다.\")\n",
        "        win += 1\n",
        "\n",
        "    elif user_input == \"보\":\n",
        "      if srp == \"가위\":\n",
        "        print(\"졌다.\")\n",
        "        lose += 1\n",
        "      else:\n",
        "        print(\"이겼다.\")\n",
        "        win += 1\n",
        "    else:\n",
        "      print(\"잘못내셨습니다.\")\n",
        "      lose += 1\n",
        "\n",
        "print(f\"\"\"\n",
        "win : {win} 번 승리\n",
        "lose : {lose} 번 패배\n",
        "draw : {draw} 번 비김\n",
        "\"\"\")\n"
      ],
      "metadata": {
        "colab": {
          "base_uri": "https://localhost:8080/"
        },
        "id": "5iM5VkTo7Kqr",
        "outputId": "b00601d1-4478-4667-9a60-67d3403510e3"
      },
      "execution_count": null,
      "outputs": [
        {
          "output_type": "stream",
          "name": "stdout",
          "text": [
            "가위 바위 보 : 가위\n",
            "비겼습니다.\n",
            "가위 바위 보 : 가위\n",
            "졌다.\n",
            "가위 바위 보 : 가위\n",
            "이겼다.\n",
            "가위 바위 보 : 가위\n",
            "비겼습니다.\n",
            "가위 바위 보 : 바위\n",
            "비겼습니다.\n",
            "가위 바위 보 : 바위\n",
            "졌다.\n",
            "가위 바위 보 : 바위\n",
            "이겼다.\n",
            "가위 바위 보 : 민어ㅏㅣㅁ너\n",
            "잘못내셨습니다.\n",
            "가위 바위 보 : ㅁㄴ이ㅏㅓㅇ나ㅣㅓㅇㅁ\n",
            "잘못내셨습니다.\n",
            "가위 바위 보 : qh\n",
            "잘못내셨습니다.\n",
            "가위 바위 보 : 보\n",
            "이겼다.\n",
            "\n",
            "win : 3 번 승리\n",
            "lose : 5 번 패배\n",
            "draw : 3 번 비김\n",
            "\n"
          ]
        }
      ]
    },
    {
      "cell_type": "code",
      "source": [
        "import random\n",
        "list_1 = [\"가위\", \"바위\", \"보\"] \n",
        "random.choice(list_1)"
      ],
      "metadata": {
        "colab": {
          "base_uri": "https://localhost:8080/",
          "height": 35
        },
        "id": "mpwt4cOH76xh",
        "outputId": "f48ba7bb-7cd5-44de-835d-98c6575b8000"
      },
      "execution_count": null,
      "outputs": [
        {
          "output_type": "execute_result",
          "data": {
            "text/plain": [
              "'가위'"
            ],
            "application/vnd.google.colaboratory.intrinsic+json": {
              "type": "string"
            }
          },
          "metadata": {},
          "execution_count": 17
        }
      ]
    },
    {
      "cell_type": "code",
      "source": [
        "# 방법 1\n",
        "srps = []\n",
        "for i in range(10):\n",
        "  srps.append(random.choice(list_1))"
      ],
      "metadata": {
        "id": "aRXKtyCw8sjq"
      },
      "execution_count": null,
      "outputs": []
    },
    {
      "cell_type": "code",
      "source": [
        "srps"
      ],
      "metadata": {
        "colab": {
          "base_uri": "https://localhost:8080/"
        },
        "id": "eD0fl5BP-4Ug",
        "outputId": "e6fa734d-52aa-45f6-a61a-d75e7c6067d6"
      },
      "execution_count": null,
      "outputs": [
        {
          "output_type": "execute_result",
          "data": {
            "text/plain": [
              "['바위', '바위', '바위', '가위', '바위', '바위', '가위', '보', '가위', '가위']"
            ]
          },
          "metadata": {},
          "execution_count": 33
        }
      ]
    },
    {
      "cell_type": "code",
      "source": [
        "# 방법2\n",
        "srps2 = [random.choice(list_1) for i in range(10)] "
      ],
      "metadata": {
        "id": "sc-N4o3Q86mg"
      },
      "execution_count": null,
      "outputs": []
    },
    {
      "cell_type": "code",
      "source": [
        "srps2"
      ],
      "metadata": {
        "colab": {
          "base_uri": "https://localhost:8080/"
        },
        "id": "UydwQDK_9he-",
        "outputId": "10afe63d-e2dc-4e45-b151-fc7ebe9429a0"
      },
      "execution_count": null,
      "outputs": [
        {
          "output_type": "execute_result",
          "data": {
            "text/plain": [
              "['가위', '가위', '가위', '보', '가위', '보', '바위', '보', '바위', '가위']"
            ]
          },
          "metadata": {},
          "execution_count": 28
        }
      ]
    },
    {
      "cell_type": "code",
      "source": [
        "win = 0 \n",
        "lose = 0 \n",
        "draw = 0 \n",
        "for srp in srps:\n",
        "  user_input  = input(\"가위 바위 보 : \")\n",
        "  if srp == user_input:\n",
        "    print(\"비겼습니다.\")\n",
        "    draw += 1\n",
        "  else:\n",
        "    if user_input == \"가위\":\n",
        "      if srp == \"바위\":\n",
        "        print(\"졌다.\")\n",
        "        lose += 1\n",
        "      else:\n",
        "        print(\"이겼다.\")\n",
        "        win += 1\n",
        "\n",
        "    elif user_input == \"바위\":\n",
        "      if srp == \"보\":\n",
        "        print(\"졌다.\")\n",
        "        lose += 1\n",
        "      else:\n",
        "        print(\"이겼다.\")\n",
        "        win += 1\n",
        "\n",
        "    elif user_input == \"보\":\n",
        "      if srp == \"가위\":\n",
        "        print(\"졌다.\")\n",
        "        lose += 1\n",
        "      else:\n",
        "        print(\"이겼다.\")\n",
        "        win += 1\n",
        "    else:\n",
        "      print(\"잘못내셨습니다.\")\n",
        "      lose += 1\n",
        "\n",
        "print(f\"\"\"\n",
        "win : {win} 번 승리\n",
        "lose : {lose} 번 패배\n",
        "draw : {draw} 번 비김\n",
        "\"\"\")\n"
      ],
      "metadata": {
        "colab": {
          "base_uri": "https://localhost:8080/"
        },
        "id": "nlEqQtdi87iP",
        "outputId": "2fd8bf72-d369-4bb9-dc04-1575acb978b6"
      },
      "execution_count": null,
      "outputs": [
        {
          "output_type": "stream",
          "name": "stdout",
          "text": [
            "가위 바위 보 : 가위\n",
            "이겼다.\n",
            "가위 바위 보 : 가위\n",
            "졌다.\n",
            "가위 바위 보 : 가위\n",
            "졌다.\n",
            "가위 바위 보 : 가위\n",
            "이겼다.\n",
            "가위 바위 보 : 가위\n",
            "비겼습니다.\n",
            "가위 바위 보 : 가위\n",
            "졌다.\n",
            "가위 바위 보 : 가위\n",
            "비겼습니다.\n",
            "가위 바위 보 : 가위\n",
            "비겼습니다.\n",
            "가위 바위 보 : 가위\n",
            "졌다.\n",
            "가위 바위 보 : 위\n",
            "잘못내셨습니다.\n",
            "\n",
            "win : 2 번 승리\n",
            "lose : 5 번 패배\n",
            "draw : 3 번 비김\n",
            "\n"
          ]
        }
      ]
    },
    {
      "cell_type": "code",
      "source": [
        "for i in range(10):\n",
        "  if i is 5:\n",
        "    print(5)"
      ],
      "metadata": {
        "colab": {
          "base_uri": "https://localhost:8080/"
        },
        "id": "QUTrDpyO9JUe",
        "outputId": "6d5cf776-e6f2-4779-caa0-03317d06e3db"
      },
      "execution_count": null,
      "outputs": [
        {
          "output_type": "stream",
          "name": "stdout",
          "text": [
            "5\n"
          ]
        }
      ]
    },
    {
      "cell_type": "code",
      "source": [
        "num = \"\"\n",
        "num = str(1) + num\n",
        "num = str(3) + num\n",
        "print(num)"
      ],
      "metadata": {
        "colab": {
          "base_uri": "https://localhost:8080/"
        },
        "id": "k2hU-hIAHsNU",
        "outputId": "9f878b31-f8ae-491a-8ba9-57be0002cdaa"
      },
      "execution_count": null,
      "outputs": [
        {
          "output_type": "stream",
          "name": "stdout",
          "text": [
            "31\n"
          ]
        }
      ]
    },
    {
      "cell_type": "code",
      "source": [
        "num = \"\"\n",
        "num = num + str(1)\n",
        "num = num + str(3)\n",
        "print(num)"
      ],
      "metadata": {
        "colab": {
          "base_uri": "https://localhost:8080/"
        },
        "id": "J1lq6eb9KFXE",
        "outputId": "01e11a14-470f-4a80-d876-c3ec150b3633"
      },
      "execution_count": null,
      "outputs": [
        {
          "output_type": "stream",
          "name": "stdout",
          "text": [
            "13\n"
          ]
        }
      ]
    },
    {
      "cell_type": "code",
      "source": [
        "str_1 = \"\"\n",
        "str_1 = \"hello\" + str_1\n",
        "str_1 = \"world\" + str_1\n",
        "print(str_1)"
      ],
      "metadata": {
        "colab": {
          "base_uri": "https://localhost:8080/"
        },
        "id": "4bc7Q0kNKIPg",
        "outputId": "10fde7e3-423a-4fac-e49b-8677e7ede682"
      },
      "execution_count": null,
      "outputs": [
        {
          "output_type": "stream",
          "name": "stdout",
          "text": [
            "worldhello\n"
          ]
        }
      ]
    },
    {
      "cell_type": "code",
      "source": [
        "str_1 = \"\"\n",
        "str_1 = str_1 + \"hello\"\n",
        "str_1 = str_1 + \"world\"\n",
        "print(str_1)"
      ],
      "metadata": {
        "colab": {
          "base_uri": "https://localhost:8080/"
        },
        "id": "0UvNOYHWLWjt",
        "outputId": "226b86d0-866d-47d8-8fa1-a948c5258394"
      },
      "execution_count": null,
      "outputs": [
        {
          "output_type": "stream",
          "name": "stdout",
          "text": [
            "helloworld\n"
          ]
        }
      ]
    },
    {
      "cell_type": "code",
      "source": [
        "str_1 = \"hello\" + \"world\""
      ],
      "metadata": {
        "id": "UBsQ1jIeKK9M"
      },
      "execution_count": null,
      "outputs": []
    },
    {
      "cell_type": "code",
      "source": [
        "str_1 = \"hi\" + str_1"
      ],
      "metadata": {
        "id": "cNpHhznEKeHP"
      },
      "execution_count": null,
      "outputs": []
    },
    {
      "cell_type": "code",
      "source": [
        "str_1"
      ],
      "metadata": {
        "colab": {
          "base_uri": "https://localhost:8080/",
          "height": 35
        },
        "id": "uIMC1i7eKlBu",
        "outputId": "65c1b005-4af2-420c-a618-20c984ce8452"
      },
      "execution_count": null,
      "outputs": [
        {
          "output_type": "execute_result",
          "data": {
            "text/plain": [
              "'hihelloworld'"
            ],
            "application/vnd.google.colaboratory.intrinsic+json": {
              "type": "string"
            }
          },
          "metadata": {},
          "execution_count": 42
        }
      ]
    },
    {
      "cell_type": "code",
      "source": [
        "def work_status(task, worker, day):\n",
        "  rest_task = task\n",
        "  for k in range(day):\n",
        "    if rest_task > 0:\n",
        "      rest_task = rest_task = worker\n",
        "    elif rest_task <= 0:\n",
        "      print(\"Task end\")\n",
        "  if rest_task > 0:\n",
        "    print(\"Hire more workers\")"
      ],
      "metadata": {
        "id": "F4r5z6sjKl8k"
      },
      "execution_count": null,
      "outputs": []
    },
    {
      "cell_type": "code",
      "source": [
        "len([1,2])"
      ],
      "metadata": {
        "colab": {
          "base_uri": "https://localhost:8080/"
        },
        "id": "c_xGY3aaOs6L",
        "outputId": "c39b88b3-6e2f-482b-e720-f873aa8bda72"
      },
      "execution_count": null,
      "outputs": [
        {
          "output_type": "execute_result",
          "data": {
            "text/plain": [
              "2"
            ]
          },
          "metadata": {},
          "execution_count": 53
        }
      ]
    },
    {
      "cell_type": "code",
      "source": [
        "coupon = 0 \n",
        "money = 200000\n",
        "coffee = 3500\n",
        "\n",
        "while money > coffee:\n",
        "  if coupon < 4:\n",
        "    money = money - coffee\n",
        "    coupon += 1\n",
        "  else:\n",
        "    money += 2800\n",
        "    coupon = 0 \n",
        "\n",
        "print(money)"
      ],
      "metadata": {
        "colab": {
          "base_uri": "https://localhost:8080/"
        },
        "id": "UBMnak8pOt9A",
        "outputId": "652a0959-78b1-4d32-c86f-253f54ebad5f"
      },
      "execution_count": null,
      "outputs": [
        {
          "output_type": "stream",
          "name": "stdout",
          "text": [
            "2600\n"
          ]
        }
      ]
    },
    {
      "cell_type": "code",
      "source": [
        "\"693\".count(\"3\")"
      ],
      "metadata": {
        "colab": {
          "base_uri": "https://localhost:8080/"
        },
        "id": "Hs7DNBHyP_5F",
        "outputId": "28a4eaa6-861b-4837-ecd4-6a626cc0bfe2"
      },
      "execution_count": null,
      "outputs": [
        {
          "output_type": "execute_result",
          "data": {
            "text/plain": [
              "1"
            ]
          },
          "metadata": {},
          "execution_count": 60
        }
      ]
    },
    {
      "cell_type": "code",
      "source": [
        "\"693\".count(\"0\")"
      ],
      "metadata": {
        "colab": {
          "base_uri": "https://localhost:8080/"
        },
        "id": "QbJuQa3IRULS",
        "outputId": "23437bc0-1b04-4a2d-e0e4-f4052def66c1"
      },
      "execution_count": null,
      "outputs": [
        {
          "output_type": "execute_result",
          "data": {
            "text/plain": [
              "0"
            ]
          },
          "metadata": {},
          "execution_count": 61
        }
      ]
    },
    {
      "cell_type": "code",
      "source": [
        "\"693\".count(\"6\")"
      ],
      "metadata": {
        "colab": {
          "base_uri": "https://localhost:8080/"
        },
        "id": "bpAnNoLvRgFr",
        "outputId": "8c00d295-02d5-4ef6-c598-eea8ddf55205"
      },
      "execution_count": null,
      "outputs": [
        {
          "output_type": "execute_result",
          "data": {
            "text/plain": [
              "1"
            ]
          },
          "metadata": {},
          "execution_count": 62
        }
      ]
    },
    {
      "cell_type": "code",
      "source": [
        "\"663\".count(\"6\")"
      ],
      "metadata": {
        "colab": {
          "base_uri": "https://localhost:8080/"
        },
        "id": "_VoKjM6IRhoW",
        "outputId": "0b3851c1-be43-400e-f810-f6dae727f890"
      },
      "execution_count": null,
      "outputs": [
        {
          "output_type": "execute_result",
          "data": {
            "text/plain": [
              "2"
            ]
          },
          "metadata": {},
          "execution_count": 74
        }
      ]
    },
    {
      "cell_type": "code",
      "source": [
        "\"693\".find(\"a\")"
      ],
      "metadata": {
        "colab": {
          "base_uri": "https://localhost:8080/"
        },
        "id": "l3mXF8UMRjmb",
        "outputId": "268e289e-ce86-4d92-ac63-c3e1e0ec5582"
      },
      "execution_count": null,
      "outputs": [
        {
          "output_type": "execute_result",
          "data": {
            "text/plain": [
              "-1"
            ]
          },
          "metadata": {},
          "execution_count": 69
        }
      ]
    },
    {
      "cell_type": "code",
      "source": [
        "# 꼭 해볼것\n",
        "# 숫자 야구에서는 중복된 숫자는 넣지 않는다. \n",
        "\n",
        "# a = \"369\"\n",
        "# b = \"693\"\n",
        "## 1s 3b\n",
        "\n",
        "# a = \"690\"\n",
        "# b = \"693\"\n",
        "## 2s 0b\n",
        "\n",
        "a = \"630\"\n",
        "b = \"693\"\n",
        "\n",
        "strike = 0\n",
        "ball = 0 \n",
        "\n",
        "for number in a:\n",
        "  if b.count(number) == 1:\n",
        "    # 숫자는 중복되게 입력 불가 >0 도 가능\n",
        "    if b.find(number) == a.find(number):\n",
        "      # 인덱스가 같아야 strike\n",
        "      strike += 1\n",
        "    else:\n",
        "      ball += 1\n",
        "\n",
        "print(f\"strike: {strike}, ball:{ball}\")"
      ],
      "metadata": {
        "colab": {
          "base_uri": "https://localhost:8080/"
        },
        "id": "rUzDdlK3R4dR",
        "outputId": "97494a73-7469-44b9-a55a-fedffb8072d5"
      },
      "execution_count": null,
      "outputs": [
        {
          "output_type": "stream",
          "name": "stdout",
          "text": [
            "strike: 1, ball:1\n"
          ]
        }
      ]
    },
    {
      "cell_type": "code",
      "source": [
        "# ball 이 제대로 카운트가 되고 있지 않다. "
      ],
      "metadata": {
        "id": "nNBBYsx0Shf8"
      },
      "execution_count": null,
      "outputs": []
    },
    {
      "cell_type": "markdown",
      "source": [
        "```\n",
        "n! = 1 * 2 * 3 * 4 * 5 * 8 * ... * n\n",
        "3! = 3 * 2 * 1 = 6\n",
        "5! = 5 * 4 * 3 * 2 * 1 = 120\n",
        "\n",
        "∑(N) = 1 + 2 + 3 + 4 + ... + N\n",
        "∑(3) = 6\n",
        "∑(10) = 55 \n",
        "\n",
        "1번\n",
        "4번째줄 N -> N+1\n",
        "8번째줄 N -> N+1\n",
        "\n",
        "2번\n",
        "apple\n",
        "\n",
        "3번\n",
        "i = int(i) : i 를 정수를 바꿔줌\n",
        "int 를 사용한다고 해서 num의 객체 정보가 변하지는 않는다\n",
        "[\"12\", \"34\", \"56\"]\n",
        "\n",
        "num = [\"12\", \"34\", \"56\"]\n",
        "num_1 = []\n",
        "# 방법1\n",
        "for i in num:\n",
        "   i = int(i)\n",
        "   num_1.append(i)\n",
        "\n",
        "# 방법2\n",
        "[int(i) for i in num]\n",
        "\n",
        "4번\n",
        "[3, 4.0]\n",
        "\n",
        "5번\n",
        "num = 0\n",
        "i =1\n",
        "\n",
        "while 진입\n",
        "\n",
        "if 통과\n",
        "i =1+1\n",
        "num = 2\n",
        "\n",
        "if 통과\n",
        "i =2 + 1\n",
        "num = 2 + 3 =5\n",
        "\n",
        "if break\n",
        "num 출력 \n",
        "\n",
        "5\n",
        "\n",
        "6번\n",
        "result = 0\n",
        "[5, 3, 1, -1, -3] >= -3\n",
        "5일때 result -1\n",
        "3일때 result -1\n",
        "1일때 result -1\n",
        "-1일때 result -1\n",
        "-3일때 result -1\n",
        "\n",
        "result = -5\n",
        "\n",
        "7번\n",
        "apple\n",
        "\n",
        "8번\n",
        "continue : 반복문 상위로 올라가 다시 동작\n",
        "break : 반복문 중지\n",
        "\n",
        "i = 1\n",
        "i is not 5\n",
        "fv = 0\n",
        "\n",
        "i = 2\n",
        "i is not 5\n",
        "fv = 0\n",
        "...\n",
        "i = 4\n",
        "i is not 5\n",
        "fv = 0\n",
        "\n",
        "i = 5\n",
        "continue 다시 위로 \n",
        "\n",
        "i = 6\n",
        "sv = 0\n",
        "...\n",
        "i = 9\n",
        "sv = 0\n",
        "\n",
        "i = 10\n",
        "break\n",
        "\n",
        "\n",
        "정답 : 0\n",
        "\n",
        "\n",
        "9번\n",
        "num = \"\"\n",
        "i = 0\n",
        "5보다 작다 and 0%2=0  continue\n",
        "i = 2\n",
        "5보다 작다 and 0%2=0  continue\n",
        "i = 4\n",
        "5보다 작다 and 0%2=0  continu\n",
        "i = 7\n",
        "continue\n",
        "\n",
        "정답\n",
        "986531\n",
        "\n",
        "\n",
        "10번\n",
        "tesk = 100\n",
        "worker = 11\n",
        "day = 10\n",
        "\n",
        "rest_task = 100\n",
        "100 - 11*9 = 1\n",
        "1 - 11 = -10 \n",
        "\n",
        "work_status(100,11,10) 인경우\n",
        "-10 일때 if 문이 종료되고 elif 들어가지 않는다\n",
        "따라서 아무값도 출력되지 않는다. \n",
        "\n",
        "work_status(100,1,10) 인경우\n",
        "Hire more workers\n",
        "\n",
        "work_status(100,9,10) 인경우\n",
        "Hire more workers\n",
        "\n",
        "work_status(100,10,10) 인경우\n",
        "rest_task = 0 인 값으로 반복문을 빠져 나오므로 아무것도 출력되지 않는다. \n",
        "\n",
        "\n",
        "11번\n",
        "0,2,4 번째 인덱스만 더한다\n",
        "45\n",
        "\n",
        "12번\n",
        "쿠폰이 4개가 되면 쿠폰이 초기화 되고\n",
        "2800원을 돌려준다.\n",
        "\n",
        "정답: 2600\n",
        "\n",
        "13번\n",
        "원래 : 0 스트라이크 3볼\n",
        "- count 문자열에서 같은 문자가 몇개 있는지 세어주는 함수\n",
        "- find 문자열에서 해당 문자가 어느 index에 있는지 확인해주는 함수이다. \n",
        "\n",
        "14번 \n",
        "2번\n",
        "\n",
        "15번\n",
        "1번\n",
        "\n",
        "```"
      ],
      "metadata": {
        "id": "AFJAmrN5VYHM"
      }
    },
    {
      "cell_type": "code",
      "source": [
        "a = 1010 #10진법 "
      ],
      "metadata": {
        "id": "fyS_rG3xYyj_"
      },
      "execution_count": null,
      "outputs": []
    },
    {
      "cell_type": "code",
      "source": [
        "a = \"1010\""
      ],
      "metadata": {
        "id": "FLh1QFDMY0wY"
      },
      "execution_count": null,
      "outputs": []
    },
    {
      "cell_type": "code",
      "source": [
        "dec = 10\n",
        "\n",
        "r_1 = dec%2\n",
        "q_1 = dec//2 \n",
        "\n",
        "r_2 = q_1%2\n",
        "q_2 = q_1//2\n",
        "\n",
        "r_3 = q_2%2\n",
        "q_3 = q_2//2\n",
        "\n",
        "...\n",
        "r_n = q_2%2\n",
        "q_n = q_2//2\n",
        "\n",
        "q_n 이 1이 될때 까지 반복한다.\n",
        "\n",
        "\n"
      ],
      "metadata": {
        "id": "XRWsvK18VZ-x"
      },
      "execution_count": null,
      "outputs": []
    },
    {
      "cell_type": "code",
      "source": [
        "dec = 10\n",
        "result = \"\"\n",
        "while True:\n",
        "  rem = dec % 2\n",
        "  dec = dec // 2\n",
        "  result = str(rem) + result\n",
        "  if dec == 1:\n",
        "    result = str(rem) + result\n",
        "    break\n",
        "\n",
        "print(result)"
      ],
      "metadata": {
        "colab": {
          "base_uri": "https://localhost:8080/"
        },
        "id": "7wj3O-_MaOSw",
        "outputId": "e3919961-d375-4277-d770-efeb819e994c"
      },
      "execution_count": null,
      "outputs": [
        {
          "output_type": "stream",
          "name": "stdout",
          "text": [
            "0010\n"
          ]
        }
      ]
    },
    {
      "cell_type": "code",
      "source": [
        "print(result)"
      ],
      "metadata": {
        "colab": {
          "base_uri": "https://localhost:8080/"
        },
        "id": "V2dEnGcZa0Zk",
        "outputId": "65606654-f280-4a1e-fa5e-41325db316a7"
      },
      "execution_count": null,
      "outputs": [
        {
          "output_type": "stream",
          "name": "stdout",
          "text": [
            "011\n"
          ]
        }
      ]
    },
    {
      "cell_type": "code",
      "source": [
        "10 // 2"
      ],
      "metadata": {
        "colab": {
          "base_uri": "https://localhost:8080/"
        },
        "id": "JZhMLNkNa2Sn",
        "outputId": "85e52d0d-c4dd-4562-c2b1-36f0f38d9d40"
      },
      "execution_count": null,
      "outputs": [
        {
          "output_type": "execute_result",
          "data": {
            "text/plain": [
              "5"
            ]
          },
          "metadata": {},
          "execution_count": 89
        }
      ]
    },
    {
      "cell_type": "code",
      "source": [
        "5 //2"
      ],
      "metadata": {
        "colab": {
          "base_uri": "https://localhost:8080/"
        },
        "id": "g4rPey_zbIq9",
        "outputId": "aa118706-3c97-44c6-86a5-e47e4444b38c"
      },
      "execution_count": null,
      "outputs": [
        {
          "output_type": "execute_result",
          "data": {
            "text/plain": [
              "2"
            ]
          },
          "metadata": {},
          "execution_count": 90
        }
      ]
    },
    {
      "cell_type": "code",
      "source": [
        "2 //2"
      ],
      "metadata": {
        "colab": {
          "base_uri": "https://localhost:8080/"
        },
        "id": "XZfa-M1lbJxR",
        "outputId": "59b0c09c-3a1e-4026-ddff-87867c75ecca"
      },
      "execution_count": null,
      "outputs": [
        {
          "output_type": "execute_result",
          "data": {
            "text/plain": [
              "1"
            ]
          },
          "metadata": {},
          "execution_count": 91
        }
      ]
    },
    {
      "cell_type": "code",
      "source": [
        "1 // 2"
      ],
      "metadata": {
        "colab": {
          "base_uri": "https://localhost:8080/"
        },
        "id": "Q-vUKr4CbKnL",
        "outputId": "b2b60308-54e1-428e-b77d-e8c3f1cbd550"
      },
      "execution_count": null,
      "outputs": [
        {
          "output_type": "execute_result",
          "data": {
            "text/plain": [
              "0"
            ]
          },
          "metadata": {},
          "execution_count": 92
        }
      ]
    },
    {
      "cell_type": "code",
      "source": [
        "0 //2"
      ],
      "metadata": {
        "colab": {
          "base_uri": "https://localhost:8080/"
        },
        "id": "5qjbmWV3bMFZ",
        "outputId": "0d92b443-cbc2-4425-fc0d-c70be08eb027"
      },
      "execution_count": null,
      "outputs": [
        {
          "output_type": "execute_result",
          "data": {
            "text/plain": [
              "0"
            ]
          },
          "metadata": {},
          "execution_count": 93
        }
      ]
    },
    {
      "cell_type": "code",
      "source": [
        "def triangle_area(height,bottom):\n",
        "  area= (height * bottom)/2\n",
        "  return area "
      ],
      "metadata": {
        "id": "VBDO_59fbOQZ"
      },
      "execution_count": null,
      "outputs": []
    },
    {
      "cell_type": "code",
      "source": [
        "height = int(input('높이를 입력하세요: '))\n",
        "bottom = int(input('밑변 길이를 입력하세요: '))\n",
        "triangle_area(height, bottom)\n",
        "print(f'삼각형의 높이:{height}')\n",
        "print(f'삼각형의 밑면:{bottom}')\n",
        "print(f'삼각형의 넓이: {(height*bottom)/2}')"
      ],
      "metadata": {
        "colab": {
          "base_uri": "https://localhost:8080/"
        },
        "id": "CeyBzR8gY9R_",
        "outputId": "c8cfeeb3-8a99-46d0-83eb-261cb517f4b4"
      },
      "execution_count": null,
      "outputs": [
        {
          "output_type": "stream",
          "name": "stdout",
          "text": [
            "높이를 입력하세요: 7\n",
            "밑변 길이를 입력하세요: 8\n",
            "삼각형의 높이:7\n",
            "삼각형의 밑면:8\n",
            "삼각형의 넓이: 28.0\n"
          ]
        }
      ]
    },
    {
      "cell_type": "code",
      "source": [
        "def myavg(num1, num2):\n",
        "  avg = (num1+num2)/2\n",
        "  return avg"
      ],
      "metadata": {
        "id": "W5tccivhZsta"
      },
      "execution_count": null,
      "outputs": []
    },
    {
      "cell_type": "code",
      "source": [
        "num1 = int(input('input number1: '))\n",
        "num2 = int(input('input number2: '))\n",
        "myavg(num1,num2)"
      ],
      "metadata": {
        "colab": {
          "base_uri": "https://localhost:8080/"
        },
        "id": "G-aRvoKOaz1_",
        "outputId": "a0919bbd-8cfa-4024-960f-7a0ee7251818"
      },
      "execution_count": null,
      "outputs": [
        {
          "name": "stdout",
          "output_type": "stream",
          "text": [
            "input number1: 4\n",
            "input number2: 6\n"
          ]
        },
        {
          "output_type": "execute_result",
          "data": {
            "text/plain": [
              "5.0"
            ]
          },
          "metadata": {},
          "execution_count": 38
        }
      ]
    },
    {
      "cell_type": "code",
      "source": [
        "def and_fun(bool1, bool2):\n",
        "  if bool1 * bool2 == 1:\n",
        "    return 1\n",
        "  else:\n",
        "    return 0"
      ],
      "metadata": {
        "id": "bynyB95RbRUp"
      },
      "execution_count": null,
      "outputs": []
    },
    {
      "cell_type": "code",
      "source": [
        "bool1 = int(input('input 0 or 1: '))\n",
        "bool2 = int(input('input 0 or 1: '))\n",
        "and_fun(bool1, bool2)"
      ],
      "metadata": {
        "colab": {
          "base_uri": "https://localhost:8080/"
        },
        "id": "6F4ykPcAbpfG",
        "outputId": "539efacd-1752-4d28-bc8b-8b047eb17f2d"
      },
      "execution_count": null,
      "outputs": [
        {
          "name": "stdout",
          "output_type": "stream",
          "text": [
            "input 0 or 1: 0\n",
            "input 0 or 1: 1\n"
          ]
        },
        {
          "output_type": "execute_result",
          "data": {
            "text/plain": [
              "0"
            ]
          },
          "metadata": {},
          "execution_count": 44
        }
      ]
    },
    {
      "cell_type": "code",
      "source": [
        "def or_fun(bool1, bool2):\n",
        "  if bool1 + bool2 == 0:\n",
        "    return 0\n",
        "  else:\n",
        "    return 1"
      ],
      "metadata": {
        "id": "mUP2qO0ccTxK"
      },
      "execution_count": null,
      "outputs": []
    },
    {
      "cell_type": "code",
      "source": [
        "bool1 = int(input('input 0 or 1: '))\n",
        "bool2 = int(input('input 0 or 1: '))\n",
        "or_fun(bool1, bool2)"
      ],
      "metadata": {
        "colab": {
          "base_uri": "https://localhost:8080/"
        },
        "id": "YAoM-8J7cc8u",
        "outputId": "e9b70d12-83fd-434c-eb44-0ac4a808b182"
      },
      "execution_count": null,
      "outputs": [
        {
          "name": "stdout",
          "output_type": "stream",
          "text": [
            "input 0 or 1: 1\n",
            "input 0 or 1: 0\n"
          ]
        },
        {
          "output_type": "execute_result",
          "data": {
            "text/plain": [
              "1"
            ]
          },
          "metadata": {},
          "execution_count": 51
        }
      ]
    },
    {
      "cell_type": "code",
      "source": [
        "def xor_fun(bool1, bool2):\n",
        "  if bool1 != bool2:\n",
        "    return 1\n",
        "  else:\n",
        "    return 0"
      ],
      "metadata": {
        "id": "ClDvm5bQct6F"
      },
      "execution_count": null,
      "outputs": []
    },
    {
      "cell_type": "code",
      "source": [
        "bool1 = int(input('input 0 or 1: '))\n",
        "bool2 = int(input('input 0 or 1: '))\n",
        "xor_fun(bool1, bool2)"
      ],
      "metadata": {
        "colab": {
          "base_uri": "https://localhost:8080/"
        },
        "id": "DVyT3PFoc-gT",
        "outputId": "0eb165a0-0308-44e5-bd43-7972d3f2d9ed"
      },
      "execution_count": null,
      "outputs": [
        {
          "name": "stdout",
          "output_type": "stream",
          "text": [
            "input 0 or 1: 1\n",
            "input 0 or 1: 0\n"
          ]
        },
        {
          "output_type": "execute_result",
          "data": {
            "text/plain": [
              "1"
            ]
          },
          "metadata": {},
          "execution_count": 54
        }
      ]
    }
  ]
}
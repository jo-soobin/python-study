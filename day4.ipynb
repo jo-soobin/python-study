{
  "nbformat": 4,
  "nbformat_minor": 0,
  "metadata": {
    "colab": {
      "name": "day4.ipynb의 사본",
      "provenance": [],
      "include_colab_link": true
    },
    "kernelspec": {
      "name": "python3",
      "display_name": "Python 3"
    },
    "language_info": {
      "name": "python"
    }
  },
  "cells": [
    {
      "cell_type": "markdown",
      "metadata": {
        "id": "view-in-github",
        "colab_type": "text"
      },
      "source": [
        "<a href=\"https://colab.research.google.com/github/jo-soobin/python-study/blob/main/day4.ipynb\" target=\"_parent\"><img src=\"https://colab.research.google.com/assets/colab-badge.svg\" alt=\"Open In Colab\"/></a>"
      ]
    },
    {
      "cell_type": "markdown",
      "source": [
        "```\n",
        "★★★★★\n",
        "\n",
        "★★★★★  \n",
        "★★★★★  \n",
        "★★★★★  \n",
        "★★★★★ \n",
        "\n",
        "★  \n",
        "★★  \n",
        "★★★  \n",
        "★★★★  \n",
        "★★★★★\n",
        "\n",
        "★★★★★\n",
        "★★★★\n",
        "★★★\n",
        "★★\n",
        "★\n",
        "\n",
        "☆☆☆☆★\n",
        "☆☆☆★★\n",
        "☆☆★★★\n",
        "☆★★★★\n",
        "★★★★★\n",
        "\n",
        "\n",
        "    ★\n",
        "   ★★\n",
        "  ★★★\n",
        " ★★★★\n",
        "★★★★★\n",
        "```"
      ],
      "metadata": {
        "id": "p0KdF2aSwi65"
      }
    },
    {
      "cell_type": "code",
      "source": [
        "for i in range(5):\n",
        "  print(\"★\", end=\"\")"
      ],
      "metadata": {
        "colab": {
          "base_uri": "https://localhost:8080/"
        },
        "id": "0fYHkhBFwirb",
        "outputId": "7a2a426b-655d-4145-8a77-2fc0281347bc"
      },
      "execution_count": null,
      "outputs": [
        {
          "output_type": "stream",
          "name": "stdout",
          "text": [
            "★★★★★"
          ]
        }
      ]
    },
    {
      "cell_type": "code",
      "source": [
        "for i in range(4):\n",
        "  for j in range(5):\n",
        "    print(\"★\", end=\"\")\n",
        "# i와 j 에 신경써서 작성해준다.\n",
        "# j 반복문이 종료되어도 줄바꿈이 일어나지 않기때문에 종료후 줄바꿈이 일어날수 있도록 해준다."
      ],
      "metadata": {
        "colab": {
          "base_uri": "https://localhost:8080/"
        },
        "id": "HH4vO0TMwiPi",
        "outputId": "b1abc8cf-d373-4d5e-b685-e9dc20bb806c"
      },
      "execution_count": null,
      "outputs": [
        {
          "output_type": "stream",
          "name": "stdout",
          "text": [
            "★★★★★★★★★★★★★★★★★★★★"
          ]
        }
      ]
    },
    {
      "cell_type": "code",
      "source": [
        "for i in range(4):\n",
        "  for j in range(5):\n",
        "    print(\"★\", end=\"\")\n",
        "  print(\"\")  "
      ],
      "metadata": {
        "colab": {
          "base_uri": "https://localhost:8080/"
        },
        "id": "nVol6vCBxO7r",
        "outputId": "1583d524-dec2-4ee5-8dca-730506750159"
      },
      "execution_count": null,
      "outputs": [
        {
          "output_type": "stream",
          "name": "stdout",
          "text": [
            "★★★★★\n",
            "★★★★★\n",
            "★★★★★\n",
            "★★★★★\n"
          ]
        }
      ]
    },
    {
      "cell_type": "code",
      "source": [
        "for i in range(1,6):\n",
        "  print(\"★\"*i)"
      ],
      "metadata": {
        "colab": {
          "base_uri": "https://localhost:8080/"
        },
        "id": "jj_Y9wEQxm3v",
        "outputId": "25ac9792-dd24-4af4-a34a-00d7271099a9"
      },
      "execution_count": null,
      "outputs": [
        {
          "output_type": "stream",
          "name": "stdout",
          "text": [
            "★\n",
            "★★\n",
            "★★★\n",
            "★★★★\n",
            "★★★★★\n"
          ]
        }
      ]
    },
    {
      "cell_type": "code",
      "source": [
        "for i in range(0,5):\n",
        "  print(\"★\"*(i+1))"
      ],
      "metadata": {
        "colab": {
          "base_uri": "https://localhost:8080/"
        },
        "id": "9f6jl-8Ix7O9",
        "outputId": "62c9d43a-9cbd-4dd4-ae26-e9e1e9ccecea"
      },
      "execution_count": null,
      "outputs": [
        {
          "output_type": "stream",
          "name": "stdout",
          "text": [
            "★\n",
            "★★\n",
            "★★★\n",
            "★★★★\n",
            "★★★★★\n"
          ]
        }
      ]
    },
    {
      "cell_type": "code",
      "source": [
        "# 중첩으로는 해결 안될까?\n",
        "for j in range(1):\n",
        "  print(\"★\", end=\"\")\n",
        "print(\"\")\n",
        "for j in range(2):\n",
        "  print(\"★\", end=\"\")\n",
        "print(\"\")\n",
        "for j in range(3):\n",
        "  print(\"★\", end=\"\")\n",
        "print(\"\")\n",
        "for j in range(4):\n",
        "  print(\"★\", end=\"\")\n",
        "print(\"\")\n",
        "for j in range(5):\n",
        "  print(\"★\", end=\"\")"
      ],
      "metadata": {
        "colab": {
          "base_uri": "https://localhost:8080/"
        },
        "id": "N0FY7uVYyKhw",
        "outputId": "3951c67d-088d-4c00-b2ec-9018f422155f"
      },
      "execution_count": null,
      "outputs": [
        {
          "output_type": "stream",
          "name": "stdout",
          "text": [
            "★\n",
            "★★\n",
            "★★★\n",
            "★★★★\n",
            "★★★★★"
          ]
        }
      ]
    },
    {
      "cell_type": "code",
      "source": [
        "for i in range(1,6):\n",
        "  for j in range(i):\n",
        "    print(\"★\", end=\"\")\n",
        "  print(\"\")"
      ],
      "metadata": {
        "colab": {
          "base_uri": "https://localhost:8080/"
        },
        "id": "AM_ArDa-yW-K",
        "outputId": "fb590afc-ceed-4886-fffc-495ab45b118e"
      },
      "execution_count": null,
      "outputs": [
        {
          "output_type": "stream",
          "name": "stdout",
          "text": [
            "★\n",
            "★★\n",
            "★★★\n",
            "★★★★\n",
            "★★★★★\n"
          ]
        }
      ]
    },
    {
      "cell_type": "code",
      "source": [
        "for i in range(5,0,-1):\n",
        "  print(\"★\"*i)"
      ],
      "metadata": {
        "colab": {
          "base_uri": "https://localhost:8080/"
        },
        "id": "WlJA_rOEy9kS",
        "outputId": "83729212-f418-4830-e179-79234692b2a8"
      },
      "execution_count": null,
      "outputs": [
        {
          "output_type": "stream",
          "name": "stdout",
          "text": [
            "★★★★★\n",
            "★★★★\n",
            "★★★\n",
            "★★\n",
            "★\n"
          ]
        }
      ]
    },
    {
      "cell_type": "code",
      "source": [
        "for j in range(5):\n",
        "  print(\"★\", end=\"\")\n",
        "print(\"\")\n",
        "for j in range(4):\n",
        "  print(\"★\", end=\"\")\n",
        "print(\"\")\n",
        "for j in range(3):\n",
        "  print(\"★\", end=\"\")\n",
        "print(\"\")\n",
        "for j in range(2):\n",
        "  print(\"★\", end=\"\")\n",
        "print(\"\")\n",
        "for j in range(1):\n",
        "  print(\"★\", end=\"\")"
      ],
      "metadata": {
        "colab": {
          "base_uri": "https://localhost:8080/"
        },
        "id": "bMyxAWO4zkvr",
        "outputId": "bc336b29-1865-4ae7-a58e-d49f19290a78"
      },
      "execution_count": null,
      "outputs": [
        {
          "output_type": "stream",
          "name": "stdout",
          "text": [
            "★★★★★\n",
            "★★★★\n",
            "★★★\n",
            "★★\n",
            "★"
          ]
        }
      ]
    },
    {
      "cell_type": "code",
      "source": [
        "for i in range(5,0,-1):\n",
        "  for j in range(i):\n",
        "    print('★',end='')\n",
        "  print('')"
      ],
      "metadata": {
        "colab": {
          "base_uri": "https://localhost:8080/"
        },
        "id": "QHBh_647zYhx",
        "outputId": "cafe5018-3d16-42fc-e38c-2ce1cf50c711"
      },
      "execution_count": null,
      "outputs": [
        {
          "output_type": "stream",
          "name": "stdout",
          "text": [
            "★★★★★\n",
            "★★★★\n",
            "★★★\n",
            "★★\n",
            "★\n"
          ]
        }
      ]
    },
    {
      "cell_type": "code",
      "source": [
        "for i in range(5):\n",
        "  for j in range(5-i):\n",
        "    print('★',end='')\n",
        "  print('')"
      ],
      "metadata": {
        "colab": {
          "base_uri": "https://localhost:8080/"
        },
        "id": "pAnj5tkLzwoe",
        "outputId": "23fbb4b2-8144-45dc-9726-ba4053d91958"
      },
      "execution_count": null,
      "outputs": [
        {
          "output_type": "stream",
          "name": "stdout",
          "text": [
            "★★★★★\n",
            "★★★★\n",
            "★★★\n",
            "★★\n",
            "★\n"
          ]
        }
      ]
    },
    {
      "cell_type": "code",
      "source": [
        "print(\"☆\"*4+\"★\"*1)\n",
        "print(\"☆\"*3+\"★\"*2)\n",
        "print(\"☆\"*2+\"★\"*3)\n",
        "print(\"☆\"*1+\"★\"*4)\n",
        "print(\"☆\"*0+\"★\"*5)"
      ],
      "metadata": {
        "colab": {
          "base_uri": "https://localhost:8080/"
        },
        "id": "76BRoogv08BZ",
        "outputId": "1ecefd93-c5ce-45ab-d3b4-2f212a788ca7"
      },
      "execution_count": null,
      "outputs": [
        {
          "output_type": "stream",
          "name": "stdout",
          "text": [
            "☆☆☆☆★\n",
            "☆☆☆★★\n",
            "☆☆★★★\n",
            "☆★★★★\n",
            "★★★★★\n"
          ]
        }
      ]
    },
    {
      "cell_type": "code",
      "source": [
        "for i in range(5):\n",
        "  print(\"☆\"*(4-i)+\"★\"*(1+i))"
      ],
      "metadata": {
        "colab": {
          "base_uri": "https://localhost:8080/"
        },
        "id": "P45XT9Az1C3k",
        "outputId": "7843dd1a-a18c-449b-c59f-2c1f99dbabd9"
      },
      "execution_count": null,
      "outputs": [
        {
          "output_type": "stream",
          "name": "stdout",
          "text": [
            "☆☆☆☆★\n",
            "☆☆☆★★\n",
            "☆☆★★★\n",
            "☆★★★★\n",
            "★★★★★\n"
          ]
        }
      ]
    },
    {
      "cell_type": "code",
      "source": [
        "for i in range(4):\n",
        "  print(\"☆\", end=\"\")\n",
        "for i in range(1):\n",
        "  print(\"★\", end=\"\")\n",
        "print(\"\")\n",
        "for i in range(3):\n",
        "  print(\"☆\", end=\"\")\n",
        "for i in range(2):\n",
        "  print(\"★\", end=\"\")\n",
        "print(\"\")\n",
        "for i in range(2):\n",
        "  print(\"☆\", end=\"\")\n",
        "for i in range(3):\n",
        "  print(\"★\", end=\"\")\n",
        "print(\"\")\n",
        "for i in range(1):\n",
        "  print(\"☆\", end=\"\")\n",
        "for i in range(4):\n",
        "  print(\"★\", end=\"\")\n",
        "print(\"\")\n",
        "for i in range(0):\n",
        "  print(\"☆\", end=\"\")\n",
        "for i in range(5):\n",
        "  print(\"★\", end=\"\")"
      ],
      "metadata": {
        "colab": {
          "base_uri": "https://localhost:8080/"
        },
        "id": "5ZNe6wf2z6Ek",
        "outputId": "47a02423-a8b2-43f4-def1-1b369188e5d4"
      },
      "execution_count": null,
      "outputs": [
        {
          "output_type": "stream",
          "name": "stdout",
          "text": [
            "☆☆☆☆★\n",
            "☆☆☆★★\n",
            "☆☆★★★\n",
            "☆★★★★\n",
            "★★★★★"
          ]
        }
      ]
    },
    {
      "cell_type": "code",
      "source": [
        "for j in range(5):\n",
        "  for i in range(4-j):\n",
        "    print(\"☆\", end=\"\")\n",
        "  for i in range(1+j):\n",
        "    print(\"★\", end=\"\")\n",
        "  print(\"\")"
      ],
      "metadata": {
        "colab": {
          "base_uri": "https://localhost:8080/"
        },
        "id": "GuxymDdW0oI-",
        "outputId": "6d0504db-c01f-42c1-ef2f-f6ad6d335859"
      },
      "execution_count": null,
      "outputs": [
        {
          "output_type": "stream",
          "name": "stdout",
          "text": [
            "☆☆☆☆★\n",
            "☆☆☆★★\n",
            "☆☆★★★\n",
            "☆★★★★\n",
            "★★★★★\n"
          ]
        }
      ]
    },
    {
      "cell_type": "markdown",
      "source": [
        "```\n",
        "apart=[[1001, 1002, 1003, 1004, 1005, 1006],[2001, 2002, 2003, 2004, 2005, 2006], [3001, 3002, 3003, 3004, 3005, 3006], [4001, 4002, 4003, 4004, 4005, 4006]]\n",
        "for i in apart:\n",
        "    for j in i:\n",
        "        print(j)\n",
        "\n",
        "\n",
        "1) i = apart[0]\n",
        "   i = [1001, 1002, 1003, 1004, 1005, 1006]\n",
        "   for j in i:\n",
        "   1-1) j = i[0] = 1001\n",
        "   1-2) j = i[1] = 1002\n",
        "   ...\n",
        "   1-6) j = i[5] = 1006\n",
        "2) i = apart[1]\n",
        "   i = [2001, 2002, 2003, 2004, 2005, 2006]\n",
        "   for j in i:\n",
        "   2-1) j = i[0] = 2001\n",
        "   2-2) j = i[1] = 2002\n",
        "   ...\n",
        "   2-6) j = i[5] = 2006\n",
        "```"
      ],
      "metadata": {
        "id": "vDdt1prcwcJM"
      }
    },
    {
      "cell_type": "code",
      "source": [
        "n=0\n",
        "while n<100:\n",
        "  if n==55:\n",
        "    print(f'{n}일치')\n",
        "  else:\n",
        "    print(f'{n}불일치')\n",
        "  n+=5"
      ],
      "metadata": {
        "colab": {
          "base_uri": "https://localhost:8080/"
        },
        "id": "AwUf29qwp-Ar",
        "outputId": "71e7a14a-fcac-4f2c-f536-e91f73fac033"
      },
      "execution_count": null,
      "outputs": [
        {
          "output_type": "stream",
          "name": "stdout",
          "text": [
            "0불일치\n",
            "5불일치\n",
            "10불일치\n",
            "15불일치\n",
            "20불일치\n",
            "25불일치\n",
            "30불일치\n",
            "35불일치\n",
            "40불일치\n",
            "45불일치\n",
            "50불일치\n",
            "55일치\n",
            "60불일치\n",
            "65불일치\n",
            "70불일치\n",
            "75불일치\n",
            "80불일치\n",
            "85불일치\n",
            "90불일치\n",
            "95불일치\n"
          ]
        }
      ]
    },
    {
      "cell_type": "code",
      "source": [
        "num=int(input('몇 단을 계산할까요?: '))\n",
        "num2=1\n",
        "while num2<10:\n",
        "  print('{} x {} = {}'.format(num, num2, num*num2))\n",
        "  num2+=1\n"
      ],
      "metadata": {
        "colab": {
          "base_uri": "https://localhost:8080/"
        },
        "id": "-2fRyIsuoHaC",
        "outputId": "7786df1b-9c55-495c-b55f-e70b1ce747a9"
      },
      "execution_count": null,
      "outputs": [
        {
          "output_type": "stream",
          "name": "stdout",
          "text": [
            "몇 단을 계산할까요?: 3\n",
            "3 x 1 = 3\n",
            "3 x 2 = 6\n",
            "3 x 3 = 9\n",
            "3 x 4 = 12\n",
            "3 x 5 = 15\n",
            "3 x 6 = 18\n",
            "3 x 7 = 21\n",
            "3 x 8 = 24\n",
            "3 x 9 = 27\n"
          ]
        }
      ]
    },
    {
      "cell_type": "code",
      "source": [
        "i=1\n",
        "while i<10:\n",
        "  j=1\n",
        "  while j<10:\n",
        "    print('{} * {} = {}'.format(i,j,i*j))\n",
        "    j+=1\n",
        "  i+=1"
      ],
      "metadata": {
        "id": "hROFA9AXwgvF",
        "colab": {
          "base_uri": "https://localhost:8080/"
        },
        "outputId": "297f3d98-dd0d-4f51-917b-a7441e467500"
      },
      "execution_count": null,
      "outputs": [
        {
          "output_type": "stream",
          "name": "stdout",
          "text": [
            "1 * 1 = 1\n",
            "1 * 2 = 2\n",
            "1 * 3 = 3\n",
            "1 * 4 = 4\n",
            "1 * 5 = 5\n",
            "1 * 6 = 6\n",
            "1 * 7 = 7\n",
            "1 * 8 = 8\n",
            "1 * 9 = 9\n",
            "2 * 1 = 2\n",
            "2 * 2 = 4\n",
            "2 * 3 = 6\n",
            "2 * 4 = 8\n",
            "2 * 5 = 10\n",
            "2 * 6 = 12\n",
            "2 * 7 = 14\n",
            "2 * 8 = 16\n",
            "2 * 9 = 18\n",
            "3 * 1 = 3\n",
            "3 * 2 = 6\n",
            "3 * 3 = 9\n",
            "3 * 4 = 12\n",
            "3 * 5 = 15\n",
            "3 * 6 = 18\n",
            "3 * 7 = 21\n",
            "3 * 8 = 24\n",
            "3 * 9 = 27\n",
            "4 * 1 = 4\n",
            "4 * 2 = 8\n",
            "4 * 3 = 12\n",
            "4 * 4 = 16\n",
            "4 * 5 = 20\n",
            "4 * 6 = 24\n",
            "4 * 7 = 28\n",
            "4 * 8 = 32\n",
            "4 * 9 = 36\n",
            "5 * 1 = 5\n",
            "5 * 2 = 10\n",
            "5 * 3 = 15\n",
            "5 * 4 = 20\n",
            "5 * 5 = 25\n",
            "5 * 6 = 30\n",
            "5 * 7 = 35\n",
            "5 * 8 = 40\n",
            "5 * 9 = 45\n",
            "6 * 1 = 6\n",
            "6 * 2 = 12\n",
            "6 * 3 = 18\n",
            "6 * 4 = 24\n",
            "6 * 5 = 30\n",
            "6 * 6 = 36\n",
            "6 * 7 = 42\n",
            "6 * 8 = 48\n",
            "6 * 9 = 54\n",
            "7 * 1 = 7\n",
            "7 * 2 = 14\n",
            "7 * 3 = 21\n",
            "7 * 4 = 28\n",
            "7 * 5 = 35\n",
            "7 * 6 = 42\n",
            "7 * 7 = 49\n",
            "7 * 8 = 56\n",
            "7 * 9 = 63\n",
            "8 * 1 = 8\n",
            "8 * 2 = 16\n",
            "8 * 3 = 24\n",
            "8 * 4 = 32\n",
            "8 * 5 = 40\n",
            "8 * 6 = 48\n",
            "8 * 7 = 56\n",
            "8 * 8 = 64\n",
            "8 * 9 = 72\n",
            "9 * 1 = 9\n",
            "9 * 2 = 18\n",
            "9 * 3 = 27\n",
            "9 * 4 = 36\n",
            "9 * 5 = 45\n",
            "9 * 6 = 54\n",
            "9 * 7 = 63\n",
            "9 * 8 = 72\n",
            "9 * 9 = 81\n"
          ]
        }
      ]
    },
    {
      "cell_type": "code",
      "source": [
        "import random\n",
        "random.randint(1,100)"
      ],
      "metadata": {
        "id": "8liXjZXIwgLl",
        "colab": {
          "base_uri": "https://localhost:8080/"
        },
        "outputId": "0e209776-7c53-40d7-8dc3-65db06c12ec4"
      },
      "execution_count": null,
      "outputs": [
        {
          "output_type": "execute_result",
          "data": {
            "text/plain": [
              "52"
            ]
          },
          "metadata": {},
          "execution_count": 13
        }
      ]
    },
    {
      "cell_type": "code",
      "source": [
        "ran_num=random.randint(1,100)\n",
        "ran_num = 10#\n",
        "print('숫자를 맞춰 보세요')\n",
        "user_input = int(input('몇 일까?: '))\n",
        "\n",
        "while user_input!= ran_num:\n",
        "  pass\n",
        "else:\n",
        "  print(f'{user_input} 정답입니다.')"
      ],
      "metadata": {
        "colab": {
          "base_uri": "https://localhost:8080/",
          "height": 281
        },
        "id": "TVyYVCXg0la5",
        "outputId": "105a332c-3dfd-4378-98e8-1ee99691d73b"
      },
      "execution_count": null,
      "outputs": [
        {
          "name": "stdout",
          "output_type": "stream",
          "text": [
            "숫자를 맞춰 보세요\n",
            "몇 일까?: 6\n"
          ]
        },
        {
          "output_type": "error",
          "ename": "KeyboardInterrupt",
          "evalue": "ignored",
          "traceback": [
            "\u001b[0;31m---------------------------------------------------------------------------\u001b[0m",
            "\u001b[0;31mKeyboardInterrupt\u001b[0m                         Traceback (most recent call last)",
            "\u001b[0;32m<ipython-input-14-37f9992eb47f>\u001b[0m in \u001b[0;36m<module>\u001b[0;34m()\u001b[0m\n\u001b[1;32m      4\u001b[0m \u001b[0;34m\u001b[0m\u001b[0m\n\u001b[1;32m      5\u001b[0m \u001b[0;32mwhile\u001b[0m \u001b[0muser_input\u001b[0m\u001b[0;34m!=\u001b[0m \u001b[0mran_num\u001b[0m\u001b[0;34m:\u001b[0m\u001b[0;34m\u001b[0m\u001b[0;34m\u001b[0m\u001b[0m\n\u001b[0;32m----> 6\u001b[0;31m   \u001b[0;32mpass\u001b[0m\u001b[0;34m\u001b[0m\u001b[0;34m\u001b[0m\u001b[0m\n\u001b[0m\u001b[1;32m      7\u001b[0m \u001b[0;32melse\u001b[0m\u001b[0;34m:\u001b[0m\u001b[0;34m\u001b[0m\u001b[0;34m\u001b[0m\u001b[0m\n\u001b[1;32m      8\u001b[0m   \u001b[0mprint\u001b[0m\u001b[0;34m(\u001b[0m\u001b[0;34mf'{user_input} 정답입니다.'\u001b[0m\u001b[0;34m)\u001b[0m\u001b[0;34m\u001b[0m\u001b[0;34m\u001b[0m\u001b[0m\n",
            "\u001b[0;31mKeyboardInterrupt\u001b[0m: "
          ]
        }
      ]
    },
    {
      "cell_type": "code",
      "source": [
        "for i in range(1,10):\n",
        "  j=1\n",
        "  while j<10:\n",
        "    result = i*j\n",
        "    print(f'{j} x {i} = {i*j}  ', end='')\n",
        "    j+=1\n",
        "  print('\\n')\n"
      ],
      "metadata": {
        "colab": {
          "base_uri": "https://localhost:8080/"
        },
        "id": "ewpQKt423Jri",
        "outputId": "f51997c3-1371-46ae-8384-5b80443c9d1a"
      },
      "execution_count": null,
      "outputs": [
        {
          "output_type": "stream",
          "name": "stdout",
          "text": [
            "1 x 1 = 1  2 x 1 = 2  3 x 1 = 3  4 x 1 = 4  5 x 1 = 5  6 x 1 = 6  7 x 1 = 7  8 x 1 = 8  9 x 1 = 9  \n",
            "\n",
            "1 x 2 = 2  2 x 2 = 4  3 x 2 = 6  4 x 2 = 8  5 x 2 = 10  6 x 2 = 12  7 x 2 = 14  8 x 2 = 16  9 x 2 = 18  \n",
            "\n",
            "1 x 3 = 3  2 x 3 = 6  3 x 3 = 9  4 x 3 = 12  5 x 3 = 15  6 x 3 = 18  7 x 3 = 21  8 x 3 = 24  9 x 3 = 27  \n",
            "\n",
            "1 x 4 = 4  2 x 4 = 8  3 x 4 = 12  4 x 4 = 16  5 x 4 = 20  6 x 4 = 24  7 x 4 = 28  8 x 4 = 32  9 x 4 = 36  \n",
            "\n",
            "1 x 5 = 5  2 x 5 = 10  3 x 5 = 15  4 x 5 = 20  5 x 5 = 25  6 x 5 = 30  7 x 5 = 35  8 x 5 = 40  9 x 5 = 45  \n",
            "\n",
            "1 x 6 = 6  2 x 6 = 12  3 x 6 = 18  4 x 6 = 24  5 x 6 = 30  6 x 6 = 36  7 x 6 = 42  8 x 6 = 48  9 x 6 = 54  \n",
            "\n",
            "1 x 7 = 7  2 x 7 = 14  3 x 7 = 21  4 x 7 = 28  5 x 7 = 35  6 x 7 = 42  7 x 7 = 49  8 x 7 = 56  9 x 7 = 63  \n",
            "\n",
            "1 x 8 = 8  2 x 8 = 16  3 x 8 = 24  4 x 8 = 32  5 x 8 = 40  6 x 8 = 48  7 x 8 = 56  8 x 8 = 64  9 x 8 = 72  \n",
            "\n",
            "1 x 9 = 9  2 x 9 = 18  3 x 9 = 27  4 x 9 = 36  5 x 9 = 45  6 x 9 = 54  7 x 9 = 63  8 x 9 = 72  9 x 9 = 81  \n",
            "\n"
          ]
        }
      ]
    },
    {
      "cell_type": "code",
      "source": [
        "for j in range(1,10):\n",
        "\n",
        "  for i in range(1,10):\n",
        "    print(f'{i} * {j} = {i*j}', end='\\t')\n",
        "  print('')"
      ],
      "metadata": {
        "colab": {
          "base_uri": "https://localhost:8080/"
        },
        "id": "_YB8bqteAHSN",
        "outputId": "a304cb92-eb94-475c-bae1-8b66f5fc2a69"
      },
      "execution_count": null,
      "outputs": [
        {
          "output_type": "stream",
          "name": "stdout",
          "text": [
            "1 * 1 = 1\t2 * 1 = 2\t3 * 1 = 3\t4 * 1 = 4\t5 * 1 = 5\t6 * 1 = 6\t7 * 1 = 7\t8 * 1 = 8\t9 * 1 = 9\t\n",
            "1 * 2 = 2\t2 * 2 = 4\t3 * 2 = 6\t4 * 2 = 8\t5 * 2 = 10\t6 * 2 = 12\t7 * 2 = 14\t8 * 2 = 16\t9 * 2 = 18\t\n",
            "1 * 3 = 3\t2 * 3 = 6\t3 * 3 = 9\t4 * 3 = 12\t5 * 3 = 15\t6 * 3 = 18\t7 * 3 = 21\t8 * 3 = 24\t9 * 3 = 27\t\n",
            "1 * 4 = 4\t2 * 4 = 8\t3 * 4 = 12\t4 * 4 = 16\t5 * 4 = 20\t6 * 4 = 24\t7 * 4 = 28\t8 * 4 = 32\t9 * 4 = 36\t\n",
            "1 * 5 = 5\t2 * 5 = 10\t3 * 5 = 15\t4 * 5 = 20\t5 * 5 = 25\t6 * 5 = 30\t7 * 5 = 35\t8 * 5 = 40\t9 * 5 = 45\t\n",
            "1 * 6 = 6\t2 * 6 = 12\t3 * 6 = 18\t4 * 6 = 24\t5 * 6 = 30\t6 * 6 = 36\t7 * 6 = 42\t8 * 6 = 48\t9 * 6 = 54\t\n",
            "1 * 7 = 7\t2 * 7 = 14\t3 * 7 = 21\t4 * 7 = 28\t5 * 7 = 35\t6 * 7 = 42\t7 * 7 = 49\t8 * 7 = 56\t9 * 7 = 63\t\n",
            "1 * 8 = 8\t2 * 8 = 16\t3 * 8 = 24\t4 * 8 = 32\t5 * 8 = 40\t6 * 8 = 48\t7 * 8 = 56\t8 * 8 = 64\t9 * 8 = 72\t\n",
            "1 * 9 = 9\t2 * 9 = 18\t3 * 9 = 27\t4 * 9 = 36\t5 * 9 = 45\t6 * 9 = 54\t7 * 9 = 63\t8 * 9 = 72\t9 * 9 = 81\t\n"
          ]
        }
      ]
    },
    {
      "cell_type": "code",
      "source": [
        "j=1\n",
        "while j <10:\n",
        "  i=1\n",
        "  while i < 10:\n",
        "    print(f'{i} * {j} = {i*j}',end='\\t')\n",
        "    i+=1\n",
        "  print('')\n",
        "  j+=1"
      ],
      "metadata": {
        "colab": {
          "base_uri": "https://localhost:8080/"
        },
        "id": "d-MOXnDRA5yb",
        "outputId": "d864a6a0-fecf-4c89-dc26-c5cfb1bdf84e"
      },
      "execution_count": null,
      "outputs": [
        {
          "output_type": "stream",
          "name": "stdout",
          "text": [
            "1 * 1 = 1\t2 * 1 = 2\t3 * 1 = 3\t4 * 1 = 4\t5 * 1 = 5\t6 * 1 = 6\t7 * 1 = 7\t8 * 1 = 8\t9 * 1 = 9\t\n",
            "1 * 2 = 2\t2 * 2 = 4\t3 * 2 = 6\t4 * 2 = 8\t5 * 2 = 10\t6 * 2 = 12\t7 * 2 = 14\t8 * 2 = 16\t9 * 2 = 18\t\n",
            "1 * 3 = 3\t2 * 3 = 6\t3 * 3 = 9\t4 * 3 = 12\t5 * 3 = 15\t6 * 3 = 18\t7 * 3 = 21\t8 * 3 = 24\t9 * 3 = 27\t\n",
            "1 * 4 = 4\t2 * 4 = 8\t3 * 4 = 12\t4 * 4 = 16\t5 * 4 = 20\t6 * 4 = 24\t7 * 4 = 28\t8 * 4 = 32\t9 * 4 = 36\t\n",
            "1 * 5 = 5\t2 * 5 = 10\t3 * 5 = 15\t4 * 5 = 20\t5 * 5 = 25\t6 * 5 = 30\t7 * 5 = 35\t8 * 5 = 40\t9 * 5 = 45\t\n",
            "1 * 6 = 6\t2 * 6 = 12\t3 * 6 = 18\t4 * 6 = 24\t5 * 6 = 30\t6 * 6 = 36\t7 * 6 = 42\t8 * 6 = 48\t9 * 6 = 54\t\n",
            "1 * 7 = 7\t2 * 7 = 14\t3 * 7 = 21\t4 * 7 = 28\t5 * 7 = 35\t6 * 7 = 42\t7 * 7 = 49\t8 * 7 = 56\t9 * 7 = 63\t\n",
            "1 * 8 = 8\t2 * 8 = 16\t3 * 8 = 24\t4 * 8 = 32\t5 * 8 = 40\t6 * 8 = 48\t7 * 8 = 56\t8 * 8 = 64\t9 * 8 = 72\t\n",
            "1 * 9 = 9\t2 * 9 = 18\t3 * 9 = 27\t4 * 9 = 36\t5 * 9 = 45\t6 * 9 = 54\t7 * 9 = 63\t8 * 9 = 72\t9 * 9 = 81\t\n"
          ]
        }
      ]
    },
    {
      "cell_type": "markdown",
      "source": [
        "#가위바위보 게임\n",
        "-총 10게임\n",
        "-잘못내면 패로 기록\n",
        "-결과는 항상 달라야 함\n",
        "-예) 가위, 바위, 보: 입력값\n",
        "졌다, 이겼다\n",
        "승:\n",
        "패:"
      ],
      "metadata": {
        "id": "kBpl6xLWCM8a"
      }
    },
    {
      "cell_type": "code",
      "source": [
        "import random\n",
        "\n",
        "srp=['가위','바위','보']\n",
        "random.choice(srp)\n",
        "\n",
        "arrayA=[]\n",
        "for a in range(10):\n",
        "  arrayA.append(random.choice(srp))\n",
        "print(arrayA)\n",
        "win =0\n",
        "lose=0\n",
        "bi=0\n",
        "for i in range(10):\n",
        "  user_input = input('가위 바위 보: ')\n",
        "  if arrayA[i] == user_input:\n",
        "    print('비겼다')\n",
        "    bi +=1\n",
        "  elif arrayA[i] == '가위' and user_input == '보':\n",
        "    print('졌다')\n",
        "    lose+=1\n",
        "  elif arrayA[i] == '바위' and user_input == '가위':\n",
        "    print('졌다')\n",
        "    lose+=1\n",
        "  elif arrayA[i] == '보' and user_input == '바위':\n",
        "    print('졌다')\n",
        "    lose+=1\n",
        "  elif arrayA[i] == '가위' and user_input == '바위':\n",
        "    print('이겼다')\n",
        "    win+=1\n",
        "  elif arrayA[i] == '바위' and user_input == '보':\n",
        "    print('이겼다')\n",
        "    win+=1\n",
        "  elif arrayA[i] == '보' and user_input == '가위':\n",
        "    print('이겼다')\n",
        "    win+=1\n",
        "  else:\n",
        "    print('다시 입력하세요')\n",
        "    lose+=1\n",
        "print(f'승:{win}')\n",
        "print(f'패:{lose}')\n",
        "print(f'비김:{bi}')\n"
      ],
      "metadata": {
        "colab": {
          "base_uri": "https://localhost:8080/"
        },
        "id": "TiJJHCTpCZOy",
        "outputId": "36b33461-d906-4839-83e9-30a214d5bb34"
      },
      "execution_count": null,
      "outputs": [
        {
          "output_type": "stream",
          "name": "stdout",
          "text": [
            "['보', '보', '보', '바위', '가위', '바위', '바위', '바위', '가위', '가위']\n",
            "가위 바위 보: 가위\n",
            "이겼다\n",
            "가위 바위 보: 가\n",
            "다시 입력하세요\n",
            "가위 바위 보: 바위\n",
            "졌다\n",
            "가위 바위 보: 보\n",
            "이겼다\n",
            "가위 바위 보: 가위\n",
            "비겼다\n",
            "가위 바위 보: 바위\n",
            "비겼다\n",
            "가위 바위 보: 엥\n",
            "다시 입력하세요\n",
            "가위 바위 보: 보\n",
            "이겼다\n",
            "가위 바위 보: 가위\n",
            "비겼다\n",
            "가위 바위 보: 바위\n",
            "이겼다\n",
            "승:4\n",
            "패:3\n",
            "비김:3\n"
          ]
        }
      ]
    }
  ]
}
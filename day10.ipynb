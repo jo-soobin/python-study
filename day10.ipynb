{
  "nbformat": 4,
  "nbformat_minor": 0,
  "metadata": {
    "colab": {
      "name": "day10.ipynb의 사본",
      "provenance": [],
      "collapsed_sections": [],
      "include_colab_link": true
    },
    "kernelspec": {
      "name": "python3",
      "display_name": "Python 3"
    },
    "language_info": {
      "name": "python"
    }
  },
  "cells": [
    {
      "cell_type": "markdown",
      "metadata": {
        "id": "view-in-github",
        "colab_type": "text"
      },
      "source": [
        "<a href=\"https://colab.research.google.com/github/jo-soobin/python-study/blob/main/day10.ipynb\" target=\"_parent\"><img src=\"https://colab.research.google.com/assets/colab-badge.svg\" alt=\"Open In Colab\"/></a>"
      ]
    },
    {
      "cell_type": "markdown",
      "source": [
        "```\n",
        "function_name = lambda parameters: expression\n",
        "\n",
        "def function_name(parameters):\n",
        "  return expression\n",
        "```"
      ],
      "metadata": {
        "id": "P-UY8fT_4sAf"
      }
    },
    {
      "cell_type": "code",
      "source": [
        "def f(x,y):\n",
        "  return x+y"
      ],
      "metadata": {
        "id": "BBRKoCr55C-C"
      },
      "execution_count": null,
      "outputs": []
    },
    {
      "cell_type": "code",
      "source": [
        "f(1,2)"
      ],
      "metadata": {
        "colab": {
          "base_uri": "https://localhost:8080/"
        },
        "id": "Lt3rftXx9ALK",
        "outputId": "7f0477db-6fe6-4fb6-cd3f-f052b5961e26"
      },
      "execution_count": null,
      "outputs": [
        {
          "output_type": "execute_result",
          "data": {
            "text/plain": [
              "3"
            ]
          },
          "metadata": {},
          "execution_count": 2
        }
      ]
    },
    {
      "cell_type": "code",
      "source": [
        "(lambda x,y: x+y)(1,5)"
      ],
      "metadata": {
        "colab": {
          "base_uri": "https://localhost:8080/"
        },
        "id": "zD74LIU99Aro",
        "outputId": "74b0f11d-d015-4f4d-c3b4-93f8f5f2985b"
      },
      "execution_count": null,
      "outputs": [
        {
          "output_type": "execute_result",
          "data": {
            "text/plain": [
              "6"
            ]
          },
          "metadata": {},
          "execution_count": 4
        }
      ]
    },
    {
      "cell_type": "code",
      "source": [
        "g = lambda x,y: x+y"
      ],
      "metadata": {
        "id": "jSc0APZ59JVA"
      },
      "execution_count": null,
      "outputs": []
    },
    {
      "cell_type": "code",
      "source": [
        "g(1,6)"
      ],
      "metadata": {
        "colab": {
          "base_uri": "https://localhost:8080/"
        },
        "id": "CraQ_yis9W3S",
        "outputId": "bb6c43ae-cbe8-4c03-cdd0-af87c8dcd3a6"
      },
      "execution_count": null,
      "outputs": [
        {
          "output_type": "execute_result",
          "data": {
            "text/plain": [
              "7"
            ]
          },
          "metadata": {},
          "execution_count": 6
        }
      ]
    },
    {
      "cell_type": "code",
      "source": [
        "h = lambda :0"
      ],
      "metadata": {
        "id": "8iliDRrF9Xta"
      },
      "execution_count": null,
      "outputs": []
    },
    {
      "cell_type": "code",
      "source": [
        "h()"
      ],
      "metadata": {
        "colab": {
          "base_uri": "https://localhost:8080/"
        },
        "id": "GJZShtKq9cg7",
        "outputId": "9a495126-78ed-4acb-eb64-3366b4919c26"
      },
      "execution_count": null,
      "outputs": [
        {
          "output_type": "execute_result",
          "data": {
            "text/plain": [
              "0"
            ]
          },
          "metadata": {},
          "execution_count": 10
        }
      ]
    },
    {
      "cell_type": "code",
      "source": [
        "power_1 = lambda x: x*x"
      ],
      "metadata": {
        "id": "w2ASqJ0e9wTv"
      },
      "execution_count": null,
      "outputs": []
    },
    {
      "cell_type": "code",
      "source": [
        "power_1(3)"
      ],
      "metadata": {
        "colab": {
          "base_uri": "https://localhost:8080/"
        },
        "id": "091kDnCy95z3",
        "outputId": "d6fa80fe-5c09-4573-a2c1-62c040503fa2"
      },
      "execution_count": null,
      "outputs": [
        {
          "output_type": "execute_result",
          "data": {
            "text/plain": [
              "9"
            ]
          },
          "metadata": {},
          "execution_count": 12
        }
      ]
    },
    {
      "cell_type": "code",
      "source": [
        "under_1 = lambda x: x<3"
      ],
      "metadata": {
        "id": "QVojDwAJ-Qhk"
      },
      "execution_count": null,
      "outputs": []
    },
    {
      "cell_type": "code",
      "source": [
        "under_1(2)"
      ],
      "metadata": {
        "colab": {
          "base_uri": "https://localhost:8080/"
        },
        "id": "CvkDUL6p-Z2E",
        "outputId": "83011648-62cc-4bea-f2e0-d8ed07027c12"
      },
      "execution_count": null,
      "outputs": [
        {
          "output_type": "execute_result",
          "data": {
            "text/plain": [
              "True"
            ]
          },
          "metadata": {},
          "execution_count": 15
        }
      ]
    },
    {
      "cell_type": "code",
      "source": [
        "def func_1():\n",
        "  return 0"
      ],
      "metadata": {
        "id": "DSM4-9Zm-dGM"
      },
      "execution_count": null,
      "outputs": []
    },
    {
      "cell_type": "code",
      "source": [
        "func_1(0)"
      ],
      "metadata": {
        "colab": {
          "base_uri": "https://localhost:8080/",
          "height": 173
        },
        "id": "kLzzr9dg_XZS",
        "outputId": "01daa511-5516-4691-9a07-c9e1a8c6d400"
      },
      "execution_count": null,
      "outputs": [
        {
          "output_type": "error",
          "ename": "TypeError",
          "evalue": "ignored",
          "traceback": [
            "\u001b[0;31m---------------------------------------------------------------------------\u001b[0m",
            "\u001b[0;31mTypeError\u001b[0m                                 Traceback (most recent call last)",
            "\u001b[0;32m<ipython-input-17-d3f3940397f2>\u001b[0m in \u001b[0;36m<module>\u001b[0;34m()\u001b[0m\n\u001b[0;32m----> 1\u001b[0;31m \u001b[0mfunc_1\u001b[0m\u001b[0;34m(\u001b[0m\u001b[0;36m0\u001b[0m\u001b[0;34m)\u001b[0m\u001b[0;34m\u001b[0m\u001b[0;34m\u001b[0m\u001b[0m\n\u001b[0m",
            "\u001b[0;31mTypeError\u001b[0m: func_1() takes 0 positional arguments but 1 was given"
          ]
        }
      ]
    },
    {
      "cell_type": "code",
      "source": [
        "func_1()"
      ],
      "metadata": {
        "colab": {
          "base_uri": "https://localhost:8080/"
        },
        "id": "2SbdB0M5_Ynz",
        "outputId": "7e840d31-f87e-4108-cc8c-9d36d242573a"
      },
      "execution_count": null,
      "outputs": [
        {
          "output_type": "execute_result",
          "data": {
            "text/plain": [
              "0"
            ]
          },
          "metadata": {},
          "execution_count": 18
        }
      ]
    },
    {
      "cell_type": "code",
      "source": [
        "lm = lambda : 0"
      ],
      "metadata": {
        "id": "cM0hGsz9_bPn"
      },
      "execution_count": null,
      "outputs": []
    },
    {
      "cell_type": "code",
      "source": [
        "lm()"
      ],
      "metadata": {
        "colab": {
          "base_uri": "https://localhost:8080/"
        },
        "id": "sbRC2U8Y_ezM",
        "outputId": "32a69b16-bb5e-4471-9699-601fb01eb5ec"
      },
      "execution_count": null,
      "outputs": [
        {
          "output_type": "execute_result",
          "data": {
            "text/plain": [
              "0"
            ]
          },
          "metadata": {},
          "execution_count": 21
        }
      ]
    },
    {
      "cell_type": "code",
      "source": [
        "lm(1)"
      ],
      "metadata": {
        "colab": {
          "base_uri": "https://localhost:8080/",
          "height": 173
        },
        "id": "f0xqQOPu_hfO",
        "outputId": "894afa6c-158b-4919-b864-950b11edba9f"
      },
      "execution_count": null,
      "outputs": [
        {
          "output_type": "error",
          "ename": "TypeError",
          "evalue": "ignored",
          "traceback": [
            "\u001b[0;31m---------------------------------------------------------------------------\u001b[0m",
            "\u001b[0;31mTypeError\u001b[0m                                 Traceback (most recent call last)",
            "\u001b[0;32m<ipython-input-23-cbc46e95f4d9>\u001b[0m in \u001b[0;36m<module>\u001b[0;34m()\u001b[0m\n\u001b[0;32m----> 1\u001b[0;31m \u001b[0mlm\u001b[0m\u001b[0;34m(\u001b[0m\u001b[0;36m1\u001b[0m\u001b[0;34m)\u001b[0m\u001b[0;34m\u001b[0m\u001b[0;34m\u001b[0m\u001b[0m\n\u001b[0m",
            "\u001b[0;31mTypeError\u001b[0m: <lambda>() takes 0 positional arguments but 1 was given"
          ]
        }
      ]
    },
    {
      "cell_type": "code",
      "source": [
        "# 함수의 매개변수로 함수 전달\n",
        "# 1급시민이라서\n",
        "\n",
        "def call100(func):\n",
        "  for i in range(100):\n",
        "    func()"
      ],
      "metadata": {
        "id": "rtMDo4-0_ith"
      },
      "execution_count": null,
      "outputs": []
    },
    {
      "cell_type": "code",
      "source": [
        "def print_hello():\n",
        "  print(\"안녕하세요\")"
      ],
      "metadata": {
        "id": "BBHrqPEmAbvZ"
      },
      "execution_count": null,
      "outputs": []
    },
    {
      "cell_type": "code",
      "source": [
        "call100(print_hello)"
      ],
      "metadata": {
        "colab": {
          "base_uri": "https://localhost:8080/"
        },
        "id": "nC8XeSEtAgKL",
        "outputId": "b8754eea-582a-4ba4-9e8a-a167881ef413"
      },
      "execution_count": null,
      "outputs": [
        {
          "output_type": "stream",
          "name": "stdout",
          "text": [
            "안녕하세요\n",
            "안녕하세요\n",
            "안녕하세요\n",
            "안녕하세요\n",
            "안녕하세요\n",
            "안녕하세요\n",
            "안녕하세요\n",
            "안녕하세요\n",
            "안녕하세요\n",
            "안녕하세요\n",
            "안녕하세요\n",
            "안녕하세요\n",
            "안녕하세요\n",
            "안녕하세요\n",
            "안녕하세요\n",
            "안녕하세요\n",
            "안녕하세요\n",
            "안녕하세요\n",
            "안녕하세요\n",
            "안녕하세요\n",
            "안녕하세요\n",
            "안녕하세요\n",
            "안녕하세요\n",
            "안녕하세요\n",
            "안녕하세요\n",
            "안녕하세요\n",
            "안녕하세요\n",
            "안녕하세요\n",
            "안녕하세요\n",
            "안녕하세요\n",
            "안녕하세요\n",
            "안녕하세요\n",
            "안녕하세요\n",
            "안녕하세요\n",
            "안녕하세요\n",
            "안녕하세요\n",
            "안녕하세요\n",
            "안녕하세요\n",
            "안녕하세요\n",
            "안녕하세요\n",
            "안녕하세요\n",
            "안녕하세요\n",
            "안녕하세요\n",
            "안녕하세요\n",
            "안녕하세요\n",
            "안녕하세요\n",
            "안녕하세요\n",
            "안녕하세요\n",
            "안녕하세요\n",
            "안녕하세요\n",
            "안녕하세요\n",
            "안녕하세요\n",
            "안녕하세요\n",
            "안녕하세요\n",
            "안녕하세요\n",
            "안녕하세요\n",
            "안녕하세요\n",
            "안녕하세요\n",
            "안녕하세요\n",
            "안녕하세요\n",
            "안녕하세요\n",
            "안녕하세요\n",
            "안녕하세요\n",
            "안녕하세요\n",
            "안녕하세요\n",
            "안녕하세요\n",
            "안녕하세요\n",
            "안녕하세요\n",
            "안녕하세요\n",
            "안녕하세요\n",
            "안녕하세요\n",
            "안녕하세요\n",
            "안녕하세요\n",
            "안녕하세요\n",
            "안녕하세요\n",
            "안녕하세요\n",
            "안녕하세요\n",
            "안녕하세요\n",
            "안녕하세요\n",
            "안녕하세요\n",
            "안녕하세요\n",
            "안녕하세요\n",
            "안녕하세요\n",
            "안녕하세요\n",
            "안녕하세요\n",
            "안녕하세요\n",
            "안녕하세요\n",
            "안녕하세요\n",
            "안녕하세요\n",
            "안녕하세요\n",
            "안녕하세요\n",
            "안녕하세요\n",
            "안녕하세요\n",
            "안녕하세요\n",
            "안녕하세요\n",
            "안녕하세요\n",
            "안녕하세요\n",
            "안녕하세요\n",
            "안녕하세요\n",
            "안녕하세요\n"
          ]
        }
      ]
    },
    {
      "cell_type": "markdown",
      "source": [
        "# map() 함수\n",
        "- 리스트, 튜플과 같은 시퀀스 자료형의 각요소에 동일한 function을 적용하는 함수\n",
        "- map 함수, lambda 대신 list comprehension 을 권장한다. \n",
        "```\n",
        "map(<function_name>, <element>)\n",
        "```"
      ],
      "metadata": {
        "id": "b4KY__xSAj1B"
      }
    },
    {
      "cell_type": "code",
      "source": [
        "list_1 = [1,2,3,4,5]\n",
        "def func_2(x):\n",
        "  return x*x # x**2"
      ],
      "metadata": {
        "id": "MJClNfnaBWUZ"
      },
      "execution_count": null,
      "outputs": []
    },
    {
      "cell_type": "code",
      "source": [
        "list(map(func_2, list_1))"
      ],
      "metadata": {
        "colab": {
          "base_uri": "https://localhost:8080/"
        },
        "id": "1SAwTXoSBkDd",
        "outputId": "4d78174d-e286-4740-fe23-df384d36266d"
      },
      "execution_count": null,
      "outputs": [
        {
          "output_type": "execute_result",
          "data": {
            "text/plain": [
              "[1, 4, 9, 16, 25]"
            ]
          },
          "metadata": {},
          "execution_count": 31
        }
      ]
    },
    {
      "cell_type": "code",
      "source": [
        "[x ** 2 for x in list_1]"
      ],
      "metadata": {
        "colab": {
          "base_uri": "https://localhost:8080/"
        },
        "id": "yKPCjW4zBnWv",
        "outputId": "790a6413-98e8-40a5-b8bc-6a65ee2d52c0"
      },
      "execution_count": null,
      "outputs": [
        {
          "output_type": "execute_result",
          "data": {
            "text/plain": [
              "[1, 4, 9, 16, 25]"
            ]
          },
          "metadata": {},
          "execution_count": 33
        }
      ]
    },
    {
      "cell_type": "code",
      "source": [
        "lam_1 = lambda x: x+1"
      ],
      "metadata": {
        "id": "Go1tLn9lCEN5"
      },
      "execution_count": null,
      "outputs": []
    },
    {
      "cell_type": "code",
      "source": [
        "list(map(lam_1, list_1))"
      ],
      "metadata": {
        "colab": {
          "base_uri": "https://localhost:8080/"
        },
        "id": "6oXkwh5VEu2r",
        "outputId": "0efef188-71ac-413b-91ec-50a863844df4"
      },
      "execution_count": null,
      "outputs": [
        {
          "output_type": "execute_result",
          "data": {
            "text/plain": [
              "[2, 3, 4, 5, 6]"
            ]
          },
          "metadata": {},
          "execution_count": 35
        }
      ]
    },
    {
      "cell_type": "code",
      "source": [
        "# 여러개의 시퀀스 자료형 사용"
      ],
      "metadata": {
        "id": "27bsu_mlFLDD"
      },
      "execution_count": null,
      "outputs": []
    },
    {
      "cell_type": "code",
      "source": [
        "list_2 = [6,7,8,9,10]"
      ],
      "metadata": {
        "id": "1LQTYKETEw_q"
      },
      "execution_count": null,
      "outputs": []
    },
    {
      "cell_type": "code",
      "source": [
        "lam_2 = lambda x,y : x+y"
      ],
      "metadata": {
        "id": "_hysEso1FJPD"
      },
      "execution_count": null,
      "outputs": []
    },
    {
      "cell_type": "code",
      "source": [
        "list(map(lam_2, list_1,list_2))"
      ],
      "metadata": {
        "colab": {
          "base_uri": "https://localhost:8080/"
        },
        "id": "metGWhfHFQg9",
        "outputId": "c09bf27b-7be0-40ff-ec8e-161434fa898f"
      },
      "execution_count": null,
      "outputs": [
        {
          "output_type": "execute_result",
          "data": {
            "text/plain": [
              "[7, 9, 11, 13, 15]"
            ]
          },
          "metadata": {},
          "execution_count": 40
        }
      ]
    },
    {
      "cell_type": "code",
      "source": [
        "[x+y for x, y in zip(list_1, list_2)]"
      ],
      "metadata": {
        "colab": {
          "base_uri": "https://localhost:8080/"
        },
        "id": "rECZRS4kFVfS",
        "outputId": "d96dc6e8-c361-4890-e9be-05e0937de95c"
      },
      "execution_count": null,
      "outputs": [
        {
          "output_type": "execute_result",
          "data": {
            "text/plain": [
              "[7, 9, 11, 13, 15]"
            ]
          },
          "metadata": {},
          "execution_count": 41
        }
      ]
    },
    {
      "cell_type": "markdown",
      "source": [
        "# filter() 함수\n",
        "- 반복가능한 객체를 함수에 넣고, return 된 값이 True 인 것만으로 list 구성"
      ],
      "metadata": {
        "id": "hZ95TSkOFimI"
      }
    },
    {
      "cell_type": "code",
      "source": [
        "def under_3(item):\n",
        "  return item < 3"
      ],
      "metadata": {
        "id": "kyJd0gztGFe6"
      },
      "execution_count": null,
      "outputs": []
    },
    {
      "cell_type": "code",
      "source": [
        "under_3(4)"
      ],
      "metadata": {
        "colab": {
          "base_uri": "https://localhost:8080/"
        },
        "id": "B0EFWanLGUb5",
        "outputId": "9fa32258-fbc0-4305-ce6b-f28409cadce6"
      },
      "execution_count": null,
      "outputs": [
        {
          "output_type": "execute_result",
          "data": {
            "text/plain": [
              "False"
            ]
          },
          "metadata": {},
          "execution_count": 52
        }
      ]
    },
    {
      "cell_type": "code",
      "source": [
        "list(filter(under_3, list_1))"
      ],
      "metadata": {
        "colab": {
          "base_uri": "https://localhost:8080/"
        },
        "id": "RWAokZZbGVsL",
        "outputId": "d89be17e-e9ad-42af-af85-2672b4010a20"
      },
      "execution_count": null,
      "outputs": [
        {
          "output_type": "execute_result",
          "data": {
            "text/plain": [
              "[1, 2]"
            ]
          },
          "metadata": {},
          "execution_count": 53
        }
      ]
    },
    {
      "cell_type": "code",
      "source": [
        "# reduce() \n",
        "# funtools 모듈에 포함\n",
        "# "
      ],
      "metadata": {
        "id": "ymA7kyOFGcP9"
      },
      "execution_count": null,
      "outputs": []
    },
    {
      "cell_type": "code",
      "source": [
        "from functools import reduce\n",
        "\n",
        "reduce(lambda x,y: x+y, list_1)"
      ],
      "metadata": {
        "colab": {
          "base_uri": "https://localhost:8080/"
        },
        "id": "CoeQ_qppHEE-",
        "outputId": "29dcd607-76b5-4d7c-9854-a27c594969c0"
      },
      "execution_count": null,
      "outputs": [
        {
          "output_type": "execute_result",
          "data": {
            "text/plain": [
              "15"
            ]
          },
          "metadata": {},
          "execution_count": 55
        }
      ]
    },
    {
      "cell_type": "code",
      "source": [
        "a, *b = 1,2,3,4,5"
      ],
      "metadata": {
        "id": "PzmcnedSHPqM"
      },
      "execution_count": null,
      "outputs": []
    },
    {
      "cell_type": "code",
      "source": [
        "b"
      ],
      "metadata": {
        "colab": {
          "base_uri": "https://localhost:8080/"
        },
        "id": "N-atp94sJenZ",
        "outputId": "d0b80e2a-078a-4fa7-e6bd-e4f194827fbb"
      },
      "execution_count": null,
      "outputs": [
        {
          "output_type": "execute_result",
          "data": {
            "text/plain": [
              "[2, 3, 4, 5]"
            ]
          },
          "metadata": {},
          "execution_count": 57
        }
      ]
    },
    {
      "cell_type": "code",
      "source": [
        "data = ([1,2], [3,4], [5,6])\n",
        "print(*data)"
      ],
      "metadata": {
        "colab": {
          "base_uri": "https://localhost:8080/"
        },
        "id": "nSRhRyX-JfbZ",
        "outputId": "62be37a4-3b26-4796-c31c-4b3736d0e104"
      },
      "execution_count": null,
      "outputs": [
        {
          "output_type": "stream",
          "name": "stdout",
          "text": [
            "[1, 2] [3, 4] [5, 6]\n"
          ]
        }
      ]
    },
    {
      "cell_type": "code",
      "source": [
        "print(data)"
      ],
      "metadata": {
        "colab": {
          "base_uri": "https://localhost:8080/"
        },
        "id": "HiLNvgMTJoNi",
        "outputId": "c846dbc1-8ea9-4d2d-b0e2-8293c5f3e6c8"
      },
      "execution_count": null,
      "outputs": [
        {
          "output_type": "stream",
          "name": "stdout",
          "text": [
            "([1, 2], [3, 4], [5, 6])\n"
          ]
        }
      ]
    },
    {
      "cell_type": "markdown",
      "source": [
        "# 데코레이터\n",
        "- 함수를 받아 명령어를 추가한뒤 다시 함수로 반환하는 함수\n",
        "- 함수를 꾸며주는 함수\n",
        "\n",
        "```\n",
        "def <decorator_name>(func): # func 기능을 추가할 대상\n",
        "  def <내부함수 이름>(args):\n",
        "    <function actions>\n",
        "    return func(args)\n",
        "  return <내부함수 이름>\n",
        "```\n"
      ],
      "metadata": {
        "id": "P3OeZT2RJ0EY"
      }
    },
    {
      "cell_type": "code",
      "source": [
        "# 로그인 기능 \n",
        "# 게시판 로그인 기능\n",
        "# 로그인 기능 호출 -> 게시판"
      ],
      "metadata": {
        "id": "xnaaHACqKI4L"
      },
      "execution_count": null,
      "outputs": []
    },
    {
      "cell_type": "code",
      "source": [
        "def freeboard(name):\n",
        "  print(f\"{name}게시판에 접속하였습니다.\")"
      ],
      "metadata": {
        "id": "g8uQ3BoCLTGq"
      },
      "execution_count": null,
      "outputs": []
    },
    {
      "cell_type": "code",
      "source": [
        "freeboard(\"자유\")"
      ],
      "metadata": {
        "colab": {
          "base_uri": "https://localhost:8080/"
        },
        "id": "GCvmSVrxLdPa",
        "outputId": "f5fcb954-9325-475d-9370-18746be642f8"
      },
      "execution_count": null,
      "outputs": [
        {
          "output_type": "stream",
          "name": "stdout",
          "text": [
            "자유게시판에 접속하였습니다.\n"
          ]
        }
      ]
    },
    {
      "cell_type": "code",
      "source": [
        "# 로그인 기능 구현\n",
        "def login(func):\n",
        "  def login_logic(arg):\n",
        "    print(\"로그인 되었습니다.\")\n",
        "    return func(arg)\n",
        "  return login_logic"
      ],
      "metadata": {
        "id": "v-tsOCg1Lfom"
      },
      "execution_count": null,
      "outputs": []
    },
    {
      "cell_type": "code",
      "source": [
        "login_board = login(freeboard)"
      ],
      "metadata": {
        "id": "WFp_04iRL7xn"
      },
      "execution_count": null,
      "outputs": []
    },
    {
      "cell_type": "code",
      "source": [
        "login_board(\"자유\")"
      ],
      "metadata": {
        "colab": {
          "base_uri": "https://localhost:8080/"
        },
        "id": "_Z5wwVbaMAAF",
        "outputId": "314cd11d-8778-4990-9c5c-85c43d2596c2"
      },
      "execution_count": null,
      "outputs": [
        {
          "output_type": "stream",
          "name": "stdout",
          "text": [
            "로그인 되었습니다.\n",
            "자유게시판에 접속하였습니다.\n"
          ]
        }
      ]
    },
    {
      "cell_type": "markdown",
      "source": [
        "```\n",
        "@데코레이터 적용함수\n",
        "def 데코레이터 적용당할 함수()\n",
        "  return \n",
        "```"
      ],
      "metadata": {
        "id": "1UloAOiMMyf4"
      }
    },
    {
      "cell_type": "code",
      "source": [
        "@login\n",
        "def storeboard(arg):\n",
        "  print(f\"{arg}에 접속하였습니다.\")"
      ],
      "metadata": {
        "id": "GGNtAPCzMMaN"
      },
      "execution_count": null,
      "outputs": []
    },
    {
      "cell_type": "code",
      "source": [
        "storeboard(\"store\")"
      ],
      "metadata": {
        "colab": {
          "base_uri": "https://localhost:8080/"
        },
        "id": "VI8jJzxnMlJq",
        "outputId": "48fdb875-a36f-4293-ea41-618b5969f905"
      },
      "execution_count": null,
      "outputs": [
        {
          "output_type": "stream",
          "name": "stdout",
          "text": [
            "로그인 되었습니다.\n",
            "store에 접속하였습니다.\n"
          ]
        }
      ]
    },
    {
      "cell_type": "code",
      "source": [
        "@login\n",
        "def gameserver(arg):\n",
        "  print(f\"{arg}에 접속하였습니다.\")"
      ],
      "metadata": {
        "id": "1O4IYRLEMoaK"
      },
      "execution_count": null,
      "outputs": []
    },
    {
      "cell_type": "code",
      "source": [
        "gameserver(\"lol\")"
      ],
      "metadata": {
        "colab": {
          "base_uri": "https://localhost:8080/"
        },
        "id": "kgdYNnPcNJZj",
        "outputId": "688a7bd7-dd0c-41cc-97f1-9cac74b6b289"
      },
      "execution_count": null,
      "outputs": [
        {
          "output_type": "stream",
          "name": "stdout",
          "text": [
            "로그인 되었습니다.\n",
            "lol에 접속하였습니다.\n"
          ]
        }
      ]
    },
    {
      "cell_type": "code",
      "source": [
        "def pay_btc(func):\n",
        "  def pay_logic(arg):\n",
        "    print(\"0.00001btc가 지불되었습니다.\")\n",
        "    return func(arg)\n",
        "  return pay_logic"
      ],
      "metadata": {
        "id": "tyoAfTY8NLjf"
      },
      "execution_count": null,
      "outputs": []
    },
    {
      "cell_type": "code",
      "source": [
        "@login\n",
        "@pay_btc\n",
        "def gameserver(arg):\n",
        "  print(f\"{arg}에 접속하였습니다.\")"
      ],
      "metadata": {
        "id": "NsidLwRYNkVV"
      },
      "execution_count": null,
      "outputs": []
    },
    {
      "cell_type": "code",
      "source": [
        "gameserver(\"lol\")"
      ],
      "metadata": {
        "colab": {
          "base_uri": "https://localhost:8080/"
        },
        "id": "GUB64cytNndi",
        "outputId": "4f149339-6296-4c68-ed3e-24a2c239f7a7"
      },
      "execution_count": null,
      "outputs": [
        {
          "output_type": "stream",
          "name": "stdout",
          "text": [
            "로그인 되었습니다.\n",
            "0.00001btc가 지불되었습니다.\n",
            "lol에 접속하였습니다.\n"
          ]
        }
      ]
    },
    {
      "cell_type": "markdown",
      "source": [
        "# class\n",
        "python 에서 제공하는 기본 데이터 유형\n",
        "- 정수\n",
        "- 실수\n",
        "- 문자\n",
        "- 리스트\n",
        "- 사전\n",
        "- 집합\n",
        "- 블리언\n",
        "\n",
        "type()"
      ],
      "metadata": {
        "id": "k6w77IuNNpP2"
      }
    },
    {
      "cell_type": "code",
      "source": [
        ""
      ],
      "metadata": {
        "id": "EeoiEfmdVHM9"
      },
      "execution_count": null,
      "outputs": []
    },
    {
      "cell_type": "code",
      "source": [
        "str_1 = \"hello\""
      ],
      "metadata": {
        "id": "S-TNgcncS7Sv"
      },
      "execution_count": null,
      "outputs": []
    },
    {
      "cell_type": "code",
      "source": [
        "type(str_1)"
      ],
      "metadata": {
        "colab": {
          "base_uri": "https://localhost:8080/"
        },
        "id": "SPwvef_uS_N4",
        "outputId": "a93d4d85-c72f-42e6-a514-70c056ab2740"
      },
      "execution_count": null,
      "outputs": [
        {
          "output_type": "execute_result",
          "data": {
            "text/plain": [
              "str"
            ]
          },
          "metadata": {},
          "execution_count": 79
        }
      ]
    },
    {
      "cell_type": "code",
      "source": [
        "float_1 = 3.14"
      ],
      "metadata": {
        "id": "qUbT0eUOTAIW"
      },
      "execution_count": null,
      "outputs": []
    },
    {
      "cell_type": "code",
      "source": [
        "type(float_1)"
      ],
      "metadata": {
        "colab": {
          "base_uri": "https://localhost:8080/"
        },
        "id": "yvMtWS_OTOE1",
        "outputId": "dc66c371-c625-4574-d89e-f0454056b263"
      },
      "execution_count": null,
      "outputs": [
        {
          "output_type": "execute_result",
          "data": {
            "text/plain": [
              "float"
            ]
          },
          "metadata": {},
          "execution_count": 81
        }
      ]
    },
    {
      "cell_type": "markdown",
      "source": [
        "# 객체의 특징\n",
        "- 메모리에 올라가면 객체\n",
        "- 객체는 value, type, id 라는 세가지 특성이 존재한다.\n",
        "- value : 메모리에 올라간 값 \"hello\", \"world\", 3.14, 7, []\n",
        "- type : 어느 클래스에 속해있는지\n",
        "- identity : 값과 유형이 같다. 서로 다른 객체일때 구분되는 고유번호"
      ],
      "metadata": {
        "id": "VC61CQk5TQOr"
      }
    },
    {
      "cell_type": "code",
      "source": [
        "a_1 = 1+3j"
      ],
      "metadata": {
        "id": "hV75zJqdWUC7"
      },
      "execution_count": null,
      "outputs": []
    },
    {
      "cell_type": "code",
      "source": [
        "a_1#객체의 value를 호출"
      ],
      "metadata": {
        "colab": {
          "base_uri": "https://localhost:8080/"
        },
        "id": "KCP1CZzXWb8B",
        "outputId": "994320a0-4830-4af0-8f01-825c98c645e3"
      },
      "execution_count": null,
      "outputs": [
        {
          "output_type": "execute_result",
          "data": {
            "text/plain": [
              "(1+3j)"
            ]
          },
          "metadata": {},
          "execution_count": 91
        }
      ]
    },
    {
      "cell_type": "code",
      "source": [
        "type(a_1)# 객체의 유형(class)"
      ],
      "metadata": {
        "colab": {
          "base_uri": "https://localhost:8080/"
        },
        "id": "YQzOw5o8Wc3_",
        "outputId": "1eea92bd-b59b-49e6-e165-ca3c531c8717"
      },
      "execution_count": null,
      "outputs": [
        {
          "output_type": "execute_result",
          "data": {
            "text/plain": [
              "complex"
            ]
          },
          "metadata": {},
          "execution_count": 92
        }
      ]
    },
    {
      "cell_type": "code",
      "source": [
        "id(a_1) #객체의 id"
      ],
      "metadata": {
        "colab": {
          "base_uri": "https://localhost:8080/"
        },
        "id": "AY9td5MLWhvB",
        "outputId": "7f4ed1d5-085e-41bf-8106-1524ba2799a3"
      },
      "execution_count": null,
      "outputs": [
        {
          "output_type": "execute_result",
          "data": {
            "text/plain": [
              "139837578242256"
            ]
          },
          "metadata": {},
          "execution_count": 93
        }
      ]
    },
    {
      "cell_type": "code",
      "source": [
        "b_1 = 1+3j"
      ],
      "metadata": {
        "id": "zTp58ZglWx-h"
      },
      "execution_count": null,
      "outputs": []
    },
    {
      "cell_type": "code",
      "source": [
        "b_1"
      ],
      "metadata": {
        "colab": {
          "base_uri": "https://localhost:8080/"
        },
        "id": "N3gHrVR2XATp",
        "outputId": "96706690-9cf5-4b31-e394-047c1f80992d"
      },
      "execution_count": null,
      "outputs": [
        {
          "output_type": "execute_result",
          "data": {
            "text/plain": [
              "(1+3j)"
            ]
          },
          "metadata": {},
          "execution_count": 95
        }
      ]
    },
    {
      "cell_type": "code",
      "source": [
        "type(b_1)"
      ],
      "metadata": {
        "colab": {
          "base_uri": "https://localhost:8080/"
        },
        "id": "womyA06JXDrD",
        "outputId": "098276b0-283f-4f52-a230-9311baf37f58"
      },
      "execution_count": null,
      "outputs": [
        {
          "output_type": "execute_result",
          "data": {
            "text/plain": [
              "complex"
            ]
          },
          "metadata": {},
          "execution_count": 97
        }
      ]
    },
    {
      "cell_type": "code",
      "source": [
        "id(b_1)"
      ],
      "metadata": {
        "colab": {
          "base_uri": "https://localhost:8080/"
        },
        "id": "TDM0vgOsXFNg",
        "outputId": "74acb1d3-cb09-417e-e619-3b648e290892"
      },
      "execution_count": null,
      "outputs": [
        {
          "output_type": "execute_result",
          "data": {
            "text/plain": [
              "139837578240304"
            ]
          },
          "metadata": {},
          "execution_count": 98
        }
      ]
    },
    {
      "cell_type": "markdown",
      "source": [
        "# 클래스와 인스턴스의 관계\n",
        "- 객체가 어떤클래스에 속할때, 그 객체를 그 클래스의 instance라고 부른다. \n",
        "- 인스턴스는 클래스에 의해 생성된 객체를 지칭한다.\n",
        "- 상대적인 개념"
      ],
      "metadata": {
        "id": "y6bvVAp6XJZK"
      }
    },
    {
      "cell_type": "code",
      "source": [
        "a = (1,2,3,4)"
      ],
      "metadata": {
        "id": "WPXWXJ-PXrTu"
      },
      "execution_count": null,
      "outputs": []
    },
    {
      "cell_type": "code",
      "source": [
        "isinstance(a, tuple) #어느 class의 instance인지 확인"
      ],
      "metadata": {
        "colab": {
          "base_uri": "https://localhost:8080/"
        },
        "id": "9OpLmispXjIa",
        "outputId": "37bf36c3-9b2d-4e3b-8379-4dca0dfd0674"
      },
      "execution_count": null,
      "outputs": [
        {
          "output_type": "execute_result",
          "data": {
            "text/plain": [
              "True"
            ]
          },
          "metadata": {},
          "execution_count": 103
        }
      ]
    },
    {
      "cell_type": "code",
      "source": [
        "# class 를 구현해 보자\n",
        "# 명함을 제작하는 스타트업\n",
        "def print_bus_card(name, email, addr):\n",
        "  print(\"-\"*30)\n",
        "  print(f\"Name : {name}\")\n",
        "  print(f\"Email : {email}\")\n",
        "  print(f\"Addr : {addr}\")\n",
        "  print(\"-\"*30)"
      ],
      "metadata": {
        "id": "z6elBBt7Xs6r"
      },
      "execution_count": null,
      "outputs": []
    },
    {
      "cell_type": "code",
      "source": [
        "print_bus_card(\"myoh\", \"myoh0623@gmail.com\", \"seoul\")"
      ],
      "metadata": {
        "colab": {
          "base_uri": "https://localhost:8080/"
        },
        "id": "ykdxFTKtYeru",
        "outputId": "7d506a44-057e-4260-e1e8-15ce0cb8c167"
      },
      "execution_count": null,
      "outputs": [
        {
          "output_type": "stream",
          "name": "stdout",
          "text": [
            "------------------------------\n",
            "Name : myoh\n",
            "Email : myoh0623@gmail.com\n",
            "Addr : seoul\n",
            "------------------------------\n"
          ]
        }
      ]
    },
    {
      "cell_type": "code",
      "source": [
        "name_1 = \"myoh\"\n",
        "email_1 = \"myoh0623@gmail.com\"\n",
        "add_1 = \"seoul\""
      ],
      "metadata": {
        "id": "woBcI7LTYqVI"
      },
      "execution_count": null,
      "outputs": []
    },
    {
      "cell_type": "code",
      "source": [
        "print_bus_card(name_1, email_1, add_1)"
      ],
      "metadata": {
        "colab": {
          "base_uri": "https://localhost:8080/"
        },
        "id": "CE6q1TNXY-N1",
        "outputId": "309cf1ee-0bce-47aa-c5db-7a4775465e96"
      },
      "execution_count": null,
      "outputs": [
        {
          "output_type": "stream",
          "name": "stdout",
          "text": [
            "------------------------------\n",
            "Name : myoh\n",
            "Email : myoh0623@gmail.com\n",
            "Addr : seoul\n",
            "------------------------------\n"
          ]
        }
      ]
    },
    {
      "cell_type": "code",
      "source": [
        "name_2 = \"dlwlrma\"\n",
        "email_2 = \"dlwlrma@kakao.com\"\n",
        "add_2 = \"seoul\""
      ],
      "metadata": {
        "id": "TDFaGVZDZBp6"
      },
      "execution_count": null,
      "outputs": []
    },
    {
      "cell_type": "code",
      "source": [
        "print_bus_card(name_2, email_2, add_2)"
      ],
      "metadata": {
        "colab": {
          "base_uri": "https://localhost:8080/"
        },
        "id": "NO98-gUlZNt8",
        "outputId": "5bbb7ea2-e417-4bdd-c2e1-f1ebc12883a7"
      },
      "execution_count": null,
      "outputs": [
        {
          "output_type": "stream",
          "name": "stdout",
          "text": [
            "------------------------------\n",
            "Name : dlwlrma\n",
            "Email : dlwlrma@kakao.com\n",
            "Addr : seoul\n",
            "------------------------------\n"
          ]
        }
      ]
    },
    {
      "cell_type": "markdown",
      "source": [
        "# 문제점\n",
        "- 손님이 계속 늘어나고 있다.\n",
        "- 변수명을 계속 추가 해야 할까?\n",
        "- name_list = [name_1, name_2, ..]\n",
        "- email_list = [email_1, email_2, ...]\n",
        "- add_list = [add_1, add_2, ...]\n",
        "\n",
        "# 해결\n",
        "- 객체지향 프로그래밍에서는 객체를 정의하는것으로 문제를 해결한다.\n",
        "- 명함1, 명함2, 명함3, ..."
      ],
      "metadata": {
        "id": "tiuKX1jrZQfn"
      }
    },
    {
      "cell_type": "code",
      "source": [
        "# class 를 정의할때는 class 라는 예약어를 사용한다. \n",
        "# https://docs.python.org/3/tutorial/classes.html\n",
        "class BussinessCard:\n",
        "  pass"
      ],
      "metadata": {
        "id": "Ffo_fEAUZ0Kt"
      },
      "execution_count": null,
      "outputs": []
    },
    {
      "cell_type": "code",
      "source": [
        "# 인스턴스를 생성할때는 다음과 같이 생성한다.\n",
        "# member_1 이라는 인스턴스가 BussinessCard Class 로 부터 생성된다.\n",
        "member_1 = BussinessCard()"
      ],
      "metadata": {
        "id": "8QLZNo1maKyt"
      },
      "execution_count": null,
      "outputs": []
    },
    {
      "cell_type": "code",
      "source": [
        "id(member_1)"
      ],
      "metadata": {
        "colab": {
          "base_uri": "https://localhost:8080/"
        },
        "id": "_BOf0bl6afiA",
        "outputId": "844eb634-c331-4cbf-e681-ce28c3305459"
      },
      "execution_count": null,
      "outputs": [
        {
          "output_type": "execute_result",
          "data": {
            "text/plain": [
              "139837578046096"
            ]
          },
          "metadata": {},
          "execution_count": 119
        }
      ]
    },
    {
      "cell_type": "code",
      "source": [
        "# self ???\n",
        "class BussinessCard:\n",
        "  def set_info(self, name, email, addr):#set_info 라는 method\n",
        "    self.name = name\n",
        "    self.email = email\n",
        "    self.addr = addr\n",
        "# set_info라는 메소드는 메소드 인자로 부터 전달된 값을 self.name ,... 으로 바인딩 한다. \n",
        "# 클래스를 정의하는 순간에는 우리가 생성할 인스턴스의 이름이 무엇인지 알수 없으므로 self라는 단어를 대신사용하여\n",
        "# self 는 인스턴스 자신을 가르키고, 우선적으로 self라고 지정해둔다."
      ],
      "metadata": {
        "id": "PkSQIPtuak1X"
      },
      "execution_count": null,
      "outputs": []
    },
    {
      "cell_type": "code",
      "source": [
        "member_2 = BussinessCard()"
      ],
      "metadata": {
        "id": "vczSOn5ScWZB"
      },
      "execution_count": null,
      "outputs": []
    },
    {
      "cell_type": "code",
      "source": [
        "member_2.name"
      ],
      "metadata": {
        "colab": {
          "base_uri": "https://localhost:8080/",
          "height": 173
        },
        "id": "VhRaWpxxdDKi",
        "outputId": "fb48bb08-bd20-419f-c83e-92337e8f77e9"
      },
      "execution_count": null,
      "outputs": [
        {
          "output_type": "error",
          "ename": "AttributeError",
          "evalue": "ignored",
          "traceback": [
            "\u001b[0;31m---------------------------------------------------------------------------\u001b[0m",
            "\u001b[0;31mAttributeError\u001b[0m                            Traceback (most recent call last)",
            "\u001b[0;32m<ipython-input-137-ca82b11104fc>\u001b[0m in \u001b[0;36m<module>\u001b[0;34m()\u001b[0m\n\u001b[0;32m----> 1\u001b[0;31m \u001b[0mmember_2\u001b[0m\u001b[0;34m.\u001b[0m\u001b[0mname\u001b[0m\u001b[0;34m\u001b[0m\u001b[0;34m\u001b[0m\u001b[0m\n\u001b[0m",
            "\u001b[0;31mAttributeError\u001b[0m: 'BussinessCard' object has no attribute 'name'"
          ]
        }
      ]
    },
    {
      "cell_type": "code",
      "source": [
        "member_2.set_info(\"myoh\", \"myoh0623@gmail.com\", \"seoul\")"
      ],
      "metadata": {
        "id": "Js6Nr7VBcbqw"
      },
      "execution_count": null,
      "outputs": []
    },
    {
      "cell_type": "code",
      "source": [
        "member_2.name"
      ],
      "metadata": {
        "colab": {
          "base_uri": "https://localhost:8080/",
          "height": 35
        },
        "id": "51UFumGCc_6a",
        "outputId": "209e96eb-33b9-45e0-d228-7e8411802811"
      },
      "execution_count": null,
      "outputs": [
        {
          "output_type": "execute_result",
          "data": {
            "text/plain": [
              "'myoh'"
            ],
            "application/vnd.google.colaboratory.intrinsic+json": {
              "type": "string"
            }
          },
          "metadata": {},
          "execution_count": 139
        }
      ]
    },
    {
      "cell_type": "code",
      "source": [
        "member_2.email"
      ],
      "metadata": {
        "colab": {
          "base_uri": "https://localhost:8080/",
          "height": 35
        },
        "id": "5Y3to2kkdI8J",
        "outputId": "aaac9da3-5549-4121-c39c-dccc2ae70e0f"
      },
      "execution_count": null,
      "outputs": [
        {
          "output_type": "execute_result",
          "data": {
            "text/plain": [
              "'myoh0623@gmail.com'"
            ],
            "application/vnd.google.colaboratory.intrinsic+json": {
              "type": "string"
            }
          },
          "metadata": {},
          "execution_count": 140
        }
      ]
    },
    {
      "cell_type": "code",
      "source": [
        "member_2.addr"
      ],
      "metadata": {
        "colab": {
          "base_uri": "https://localhost:8080/",
          "height": 35
        },
        "id": "mAdmumgsdeWa",
        "outputId": "5197df1a-0777-4964-9ff4-7ac5a96a626b"
      },
      "execution_count": null,
      "outputs": [
        {
          "output_type": "execute_result",
          "data": {
            "text/plain": [
              "'seoul'"
            ],
            "application/vnd.google.colaboratory.intrinsic+json": {
              "type": "string"
            }
          },
          "metadata": {},
          "execution_count": 141
        }
      ]
    },
    {
      "cell_type": "code",
      "source": [
        "class BussinessCard:\n",
        "  def set_info(self, name, email, addr):#set_info 라는 method\n",
        "    self.name = name\n",
        "    self.email = email\n",
        "    self.addr = addr\n",
        "# 명함을 출력하는 method를 만들어 보세요   \n",
        "  def print_bussiness_card(self):\n",
        "    print(\"-\"*30)\n",
        "    print(f\"Name : {self.name}\")\n",
        "    print(f\"Email : {self.email}\")\n",
        "    print(f\"Addr : {self.addr}\")\n",
        "    print(\"-\"*30)\n",
        "  def print_made_by(self):\n",
        "    print(\"multicampus\")"
      ],
      "metadata": {
        "id": "OU5DIb0jdfpE"
      },
      "execution_count": null,
      "outputs": []
    },
    {
      "cell_type": "code",
      "source": [
        "member_1 = BussinessCard()"
      ],
      "metadata": {
        "id": "1CobI7CcuI7e"
      },
      "execution_count": null,
      "outputs": []
    },
    {
      "cell_type": "code",
      "source": [
        "member_1.set_info(\"myoh\", \"myoh0623@gmail.com\", \"seoul\")#member_1 인스턴스 하위에 set_info 라는 method를 호출"
      ],
      "metadata": {
        "id": "cv9jYw_izRul"
      },
      "execution_count": null,
      "outputs": []
    },
    {
      "cell_type": "code",
      "source": [
        "member_1.name #member_1 인스턴스 하위에 name 이라는 변수"
      ],
      "metadata": {
        "colab": {
          "base_uri": "https://localhost:8080/",
          "height": 35
        },
        "id": "yjqzU34gzhN-",
        "outputId": "83c801f3-30b9-4897-ab38-abff68490781"
      },
      "execution_count": null,
      "outputs": [
        {
          "output_type": "execute_result",
          "data": {
            "text/plain": [
              "'myoh'"
            ],
            "application/vnd.google.colaboratory.intrinsic+json": {
              "type": "string"
            }
          },
          "metadata": {},
          "execution_count": 167
        }
      ]
    },
    {
      "cell_type": "code",
      "source": [
        "member_1.email"
      ],
      "metadata": {
        "colab": {
          "base_uri": "https://localhost:8080/",
          "height": 35
        },
        "id": "mxCWNhaxzi73",
        "outputId": "5564cb0c-4d5b-487e-b874-d39c81fb1e6a"
      },
      "execution_count": null,
      "outputs": [
        {
          "output_type": "execute_result",
          "data": {
            "text/plain": [
              "'myoh0623@gmail.com'"
            ],
            "application/vnd.google.colaboratory.intrinsic+json": {
              "type": "string"
            }
          },
          "metadata": {},
          "execution_count": 168
        }
      ]
    },
    {
      "cell_type": "code",
      "source": [
        "member_1.addr"
      ],
      "metadata": {
        "colab": {
          "base_uri": "https://localhost:8080/",
          "height": 35
        },
        "id": "nFK9sj89zvZR",
        "outputId": "e9c9d6f0-8b9b-43b6-fcef-45d4f322b8a6"
      },
      "execution_count": null,
      "outputs": [
        {
          "output_type": "execute_result",
          "data": {
            "text/plain": [
              "'seoul'"
            ],
            "application/vnd.google.colaboratory.intrinsic+json": {
              "type": "string"
            }
          },
          "metadata": {},
          "execution_count": 169
        }
      ]
    },
    {
      "cell_type": "code",
      "source": [
        "member_1.print_bussiness_card()"
      ],
      "metadata": {
        "colab": {
          "base_uri": "https://localhost:8080/"
        },
        "id": "xjqpJSNTzwMW",
        "outputId": "609e82d9-4d2d-40a2-e181-e5509db56402"
      },
      "execution_count": null,
      "outputs": [
        {
          "output_type": "stream",
          "name": "stdout",
          "text": [
            "------------------------------\n",
            "Name : myoh\n",
            "Email : myoh0623@gmail.com\n",
            "Addr : seoul\n",
            "------------------------------\n"
          ]
        }
      ]
    },
    {
      "cell_type": "code",
      "source": [
        "member_1.print_made_by()"
      ],
      "metadata": {
        "colab": {
          "base_uri": "https://localhost:8080/"
        },
        "id": "GP5ntqShz1Kl",
        "outputId": "e26fddf5-8d62-4656-adaa-2e400b448bfc"
      },
      "execution_count": null,
      "outputs": [
        {
          "output_type": "stream",
          "name": "stdout",
          "text": [
            "multicampus\n"
          ]
        }
      ]
    },
    {
      "cell_type": "code",
      "source": [
        "class BussinessCard:\n",
        "  def __init__(self, name): # instance가 새로 생성될때 처음 실행되는 method\n",
        "    self.name = name\n",
        "  def set_info(self, email, addr):#set_info 라는 method\n",
        "    self.email = email\n",
        "    self.addr = addr\n",
        "# 명함을 출력하는 method를 만들어 보세요   \n",
        "  def print_bussiness_card(self):\n",
        "    print(\"-\"*30)\n",
        "    print(f\"Name : {self.name}\")\n",
        "    print(f\"Email : {self.email}\")\n",
        "    print(f\"Addr : {self.addr}\")\n",
        "    print(\"-\"*30)\n",
        "  def __str__(self):\n",
        "    return self.name\n",
        "  def print_made_by(self):\n",
        "    print(\"multicampus\")"
      ],
      "metadata": {
        "id": "4l8t4W3v0dFG"
      },
      "execution_count": null,
      "outputs": []
    },
    {
      "cell_type": "code",
      "source": [
        "member_2 = BussinessCard(\"myoh\")"
      ],
      "metadata": {
        "id": "mldThExi1IVX"
      },
      "execution_count": null,
      "outputs": []
    },
    {
      "cell_type": "code",
      "source": [
        "print(member_2)"
      ],
      "metadata": {
        "colab": {
          "base_uri": "https://localhost:8080/"
        },
        "id": "zIBXKXaC2k9H",
        "outputId": "176b3bb9-f37b-4165-91ca-f63183193b22"
      },
      "execution_count": null,
      "outputs": [
        {
          "output_type": "stream",
          "name": "stdout",
          "text": [
            "myoh\n"
          ]
        }
      ]
    },
    {
      "cell_type": "code",
      "source": [
        "a = 1"
      ],
      "metadata": {
        "id": "1ZUizj2K2o4m"
      },
      "execution_count": null,
      "outputs": []
    },
    {
      "cell_type": "code",
      "source": [
        "print(1)"
      ],
      "metadata": {
        "colab": {
          "base_uri": "https://localhost:8080/"
        },
        "id": "-V-Esgy62qk1",
        "outputId": "8b1159a3-bfb5-4a76-c4fd-5c5617b2c00f"
      },
      "execution_count": null,
      "outputs": [
        {
          "output_type": "stream",
          "name": "stdout",
          "text": [
            "1\n"
          ]
        }
      ]
    },
    {
      "cell_type": "code",
      "source": [
        "class make_human():\n",
        "  def __init__(self):\n",
        "    print(\"응애\")\n",
        "  def set_info(self, sex):\n",
        "    self.sex = sex"
      ],
      "metadata": {
        "id": "-tguZqAK1LXq"
      },
      "execution_count": null,
      "outputs": []
    },
    {
      "cell_type": "code",
      "source": [
        "human_1 = make_human()"
      ],
      "metadata": {
        "colab": {
          "base_uri": "https://localhost:8080/"
        },
        "id": "5c-XVu5N1w8x",
        "outputId": "0373cee2-5887-4a6e-d6af-1896fc770692"
      },
      "execution_count": null,
      "outputs": [
        {
          "output_type": "stream",
          "name": "stdout",
          "text": [
            "응애\n"
          ]
        }
      ]
    },
    {
      "cell_type": "code",
      "source": [
        "human_1.set_info(\"man\")"
      ],
      "metadata": {
        "id": "dYwKAp2g1zpp"
      },
      "execution_count": null,
      "outputs": []
    },
    {
      "cell_type": "code",
      "source": [
        "human_1.sex"
      ],
      "metadata": {
        "colab": {
          "base_uri": "https://localhost:8080/",
          "height": 35
        },
        "id": "b0Vb_yi419Ht",
        "outputId": "c5a4b151-94e0-4189-a500-e287d197a0cf"
      },
      "execution_count": null,
      "outputs": [
        {
          "output_type": "execute_result",
          "data": {
            "text/plain": [
              "'man'"
            ],
            "application/vnd.google.colaboratory.intrinsic+json": {
              "type": "string"
            }
          },
          "metadata": {},
          "execution_count": 181
        }
      ]
    },
    {
      "cell_type": "code",
      "source": [
        "class Class_1():\n",
        "  def func_1():\n",
        "    print(\"function1\")"
      ],
      "metadata": {
        "id": "ZE8PWVgj1-eL"
      },
      "execution_count": null,
      "outputs": []
    },
    {
      "cell_type": "code",
      "source": [
        "cl = Class_1()"
      ],
      "metadata": {
        "id": "BINrGx-S5Ffa"
      },
      "execution_count": null,
      "outputs": []
    },
    {
      "cell_type": "code",
      "source": [
        "cl.func_1()"
      ],
      "metadata": {
        "colab": {
          "base_uri": "https://localhost:8080/",
          "height": 173
        },
        "id": "sGOj4iU95UeK",
        "outputId": "18db5756-409f-4c47-bd0f-5dacc79004ff"
      },
      "execution_count": null,
      "outputs": [
        {
          "output_type": "error",
          "ename": "TypeError",
          "evalue": "ignored",
          "traceback": [
            "\u001b[0;31m---------------------------------------------------------------------------\u001b[0m",
            "\u001b[0;31mTypeError\u001b[0m                                 Traceback (most recent call last)",
            "\u001b[0;32m<ipython-input-200-79938aaead0e>\u001b[0m in \u001b[0;36m<module>\u001b[0;34m()\u001b[0m\n\u001b[0;32m----> 1\u001b[0;31m \u001b[0mcl\u001b[0m\u001b[0;34m.\u001b[0m\u001b[0mfunc_1\u001b[0m\u001b[0;34m(\u001b[0m\u001b[0;34m)\u001b[0m\u001b[0;34m\u001b[0m\u001b[0;34m\u001b[0m\u001b[0m\n\u001b[0m",
            "\u001b[0;31mTypeError\u001b[0m: func_1() takes 0 positional arguments but 1 was given"
          ]
        }
      ]
    },
    {
      "cell_type": "code",
      "source": [
        "# method 에 꼭 parameter를 안넣어도 된다. \n",
        "# https://docs.python.org/3/library/functions.html?highlight=staticmethod#staticmethod\n",
        "# https://wikidocs.net/21054\n",
        "class Class_2():\n",
        "  @staticmethod\n",
        "  def func_1():\n",
        "    print(\"function1\")"
      ],
      "metadata": {
        "id": "rB2cGroy5Wvt"
      },
      "execution_count": null,
      "outputs": []
    },
    {
      "cell_type": "code",
      "source": [
        "cl_2 = Class_2()"
      ],
      "metadata": {
        "id": "UtBNn4o35hi4"
      },
      "execution_count": null,
      "outputs": []
    },
    {
      "cell_type": "code",
      "source": [
        "cl_2.func_1()"
      ],
      "metadata": {
        "colab": {
          "base_uri": "https://localhost:8080/"
        },
        "id": "Du7FZbPI5jTJ",
        "outputId": "2ee36889-d397-4c17-f7cd-2676d470fecb"
      },
      "execution_count": null,
      "outputs": [
        {
          "output_type": "stream",
          "name": "stdout",
          "text": [
            "function1\n"
          ]
        }
      ]
    },
    {
      "cell_type": "code",
      "source": [
        "# 꼭 self 가 아니어도 된다.\n",
        "# https://wikidocs.net/1742\n",
        "class Class_3():\n",
        "  def __init__(self2, name):\n",
        "    self2.name = name\n",
        "    print(self2.name)"
      ],
      "metadata": {
        "id": "zATbUTtz5k2_"
      },
      "execution_count": null,
      "outputs": []
    },
    {
      "cell_type": "code",
      "source": [
        "cl_3 = Class_3(\"myoh\")"
      ],
      "metadata": {
        "colab": {
          "base_uri": "https://localhost:8080/"
        },
        "id": "8-QzIjkN53lZ",
        "outputId": "adb85126-829f-47bb-d8aa-56b0ef673903"
      },
      "execution_count": null,
      "outputs": [
        {
          "output_type": "stream",
          "name": "stdout",
          "text": [
            "myoh\n"
          ]
        }
      ]
    },
    {
      "cell_type": "code",
      "source": [
        "cl_3.name"
      ],
      "metadata": {
        "colab": {
          "base_uri": "https://localhost:8080/",
          "height": 35
        },
        "id": "k0rGU8ax560k",
        "outputId": "6a36b321-9020-45b1-f45d-18c3f84fdf61"
      },
      "execution_count": null,
      "outputs": [
        {
          "output_type": "execute_result",
          "data": {
            "text/plain": [
              "'myoh'"
            ],
            "application/vnd.google.colaboratory.intrinsic+json": {
              "type": "string"
            }
          },
          "metadata": {},
          "execution_count": 207
        }
      ]
    },
    {
      "cell_type": "code",
      "source": [
        "# 예제\n",
        "class Student:\n",
        "  def 이름, 수학점수, 국어점수\n",
        "\n",
        "  def 총점\n",
        "\n",
        "  def 평균을 구하는함수\n",
        "\n",
        "  def print 출력할때 출력되는 문자열을 반환하는 함수\n",
        "\n",
        "\n",
        "# students = [Student(\"오민엽\", 87, 98),\n",
        "#     Student(\"아이유\", 92, 98),\n",
        "#     Student(\"아이린\", 76, 96)]\n",
        "\n",
        "# print(\"이름\", \"총점\", \"평균\", sep=\"\\t\")\n",
        "# for student in students:\n",
        "#     # 출력합니다.\n",
        "#     print(student.to_string())\n",
        "\n",
        "# 이름\t총점\t평균\n",
        "# 오민엽\t185\t92.5\n",
        "# 아이유\t190\t95.0\n",
        "# 아이린\t172\t86.0"
      ],
      "metadata": {
        "id": "LX4oCtH359nb"
      },
      "execution_count": null,
      "outputs": []
    },
    {
      "cell_type": "code",
      "source": [
        "class Student:\n",
        "  def __init__(self, name, math, kor):\n",
        "    self.name = name\n",
        "    self.math = math\n",
        "    self.kor = kor\n",
        "\n",
        "  def get_sum(self):\n",
        "    self.sum = self.math + self.kor\n",
        "    return self.sum\n",
        "\n",
        "  def get_avg(self):\n",
        "    self.avg = (self.math+self.kor)/2\n",
        "    return self.avg\n",
        "\n",
        "  def to_string(self):\n",
        "    return f\"{self.name},{self.get_sum()},{self.get_avg()}\"\n",
        "\n",
        "  def __str__(self):\n",
        "    return f\"{self.name},{self.get_sum()},{self.get_avg()}\"    "
      ],
      "metadata": {
        "id": "p9OPvJ9R-ZDj"
      },
      "execution_count": 19,
      "outputs": []
    },
    {
      "cell_type": "code",
      "source": [
        "stu1 = Student('someone', 100, 90)"
      ],
      "metadata": {
        "id": "_soaGpjzDxIh"
      },
      "execution_count": 20,
      "outputs": []
    },
    {
      "cell_type": "code",
      "source": [
        "stu1.get_avg()"
      ],
      "metadata": {
        "colab": {
          "base_uri": "https://localhost:8080/"
        },
        "id": "voGH5dGMEV0S",
        "outputId": "517f7dd6-5d1a-4042-f124-fd70468ebb0e"
      },
      "execution_count": 21,
      "outputs": [
        {
          "output_type": "execute_result",
          "data": {
            "text/plain": [
              "95.0"
            ]
          },
          "metadata": {},
          "execution_count": 21
        }
      ]
    },
    {
      "cell_type": "code",
      "source": [
        "stu1.get_sum()"
      ],
      "metadata": {
        "colab": {
          "base_uri": "https://localhost:8080/"
        },
        "id": "MLHiN8BfFuMH",
        "outputId": "1e0d79cc-7d50-4289-aa82-d679925a284b"
      },
      "execution_count": 22,
      "outputs": [
        {
          "output_type": "execute_result",
          "data": {
            "text/plain": [
              "190"
            ]
          },
          "metadata": {},
          "execution_count": 22
        }
      ]
    },
    {
      "cell_type": "code",
      "source": [
        "class SoccerPlayer:\n",
        "  def __init__(self, name, position,back_num):\n",
        "    self.name = name\n",
        "    self.position = position\n",
        "    self.back_num = back_num\n",
        "\n",
        "  def change_back_num(self,new_num):\n",
        "    print(f'{self.back_num} -> {new_num}')\n",
        "    self.back_num = new_num\n",
        "\n",
        "  def __str__(self):\n",
        "    return f'hello! my name is {self.name}. I play in {self.position}'"
      ],
      "metadata": {
        "id": "zlAgB89EJ8q2"
      },
      "execution_count": 23,
      "outputs": []
    },
    {
      "cell_type": "code",
      "source": [
        "player_1 = SoccerPlayer('Js','wing','10')"
      ],
      "metadata": {
        "id": "D-1Zhvy2KueB"
      },
      "execution_count": 30,
      "outputs": []
    },
    {
      "cell_type": "code",
      "source": [
        "player_1.name"
      ],
      "metadata": {
        "colab": {
          "base_uri": "https://localhost:8080/",
          "height": 36
        },
        "id": "idLiSURoK3yB",
        "outputId": "df4e5618-9eb6-4856-d3b4-735d29c2e578"
      },
      "execution_count": 31,
      "outputs": [
        {
          "output_type": "execute_result",
          "data": {
            "text/plain": [
              "'Js'"
            ],
            "application/vnd.google.colaboratory.intrinsic+json": {
              "type": "string"
            }
          },
          "metadata": {},
          "execution_count": 31
        }
      ]
    },
    {
      "cell_type": "code",
      "source": [
        "player_1.position"
      ],
      "metadata": {
        "colab": {
          "base_uri": "https://localhost:8080/",
          "height": 36
        },
        "id": "12lRBC_LK7lK",
        "outputId": "2df12af5-ae36-44e1-a45e-3e318535b1b6"
      },
      "execution_count": 32,
      "outputs": [
        {
          "output_type": "execute_result",
          "data": {
            "text/plain": [
              "'wing'"
            ],
            "application/vnd.google.colaboratory.intrinsic+json": {
              "type": "string"
            }
          },
          "metadata": {},
          "execution_count": 32
        }
      ]
    },
    {
      "cell_type": "code",
      "source": [
        "player_1.back_num"
      ],
      "metadata": {
        "colab": {
          "base_uri": "https://localhost:8080/",
          "height": 36
        },
        "id": "bQfLpNSIK-uj",
        "outputId": "966e1aca-c2a6-4aee-814a-f82438bc06c3"
      },
      "execution_count": 33,
      "outputs": [
        {
          "output_type": "execute_result",
          "data": {
            "text/plain": [
              "'10'"
            ],
            "application/vnd.google.colaboratory.intrinsic+json": {
              "type": "string"
            }
          },
          "metadata": {},
          "execution_count": 33
        }
      ]
    },
    {
      "cell_type": "code",
      "source": [
        "player_1.change_back_num(17)"
      ],
      "metadata": {
        "colab": {
          "base_uri": "https://localhost:8080/"
        },
        "id": "i0yNBFVoLCxU",
        "outputId": "718354b2-b4c2-431d-cb58-1377285999ef"
      },
      "execution_count": 34,
      "outputs": [
        {
          "output_type": "stream",
          "name": "stdout",
          "text": [
            "10 -> 17\n"
          ]
        }
      ]
    },
    {
      "cell_type": "code",
      "source": [
        "print(player_1)"
      ],
      "metadata": {
        "colab": {
          "base_uri": "https://localhost:8080/"
        },
        "id": "fXaWfeIqLLlH",
        "outputId": "cf501834-d948-44d3-e95c-fba371987032"
      },
      "execution_count": 35,
      "outputs": [
        {
          "output_type": "stream",
          "name": "stdout",
          "text": [
            "hello! my name is Js. I play in wing\n"
          ]
        }
      ]
    },
    {
      "cell_type": "code",
      "source": [
        ""
      ],
      "metadata": {
        "id": "61G6IdVpMIYL"
      },
      "execution_count": null,
      "outputs": []
    }
  ]
}
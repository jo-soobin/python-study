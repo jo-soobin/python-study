{
  "nbformat": 4,
  "nbformat_minor": 0,
  "metadata": {
    "colab": {
      "name": "day10.ipynb의 사본",
      "provenance": [],
      "collapsed_sections": [],
      "include_colab_link": true
    },
    "kernelspec": {
      "name": "python3",
      "display_name": "Python 3"
    },
    "language_info": {
      "name": "python"
    }
  },
  "cells": [
    {
      "cell_type": "markdown",
      "metadata": {
        "id": "view-in-github",
        "colab_type": "text"
      },
      "source": [
        "<a href=\"https://colab.research.google.com/github/jo-soobin/python-study/blob/main/day10.ipynb\" target=\"_parent\"><img src=\"https://colab.research.google.com/assets/colab-badge.svg\" alt=\"Open In Colab\"/></a>"
      ]
    },
    {
      "cell_type": "markdown",
      "source": [
        "```\n",
        "function_name = lambda parameters: expression\n",
        "\n",
        "def function_name(parameters):\n",
        "  return expression\n",
        "```"
      ],
      "metadata": {
        "id": "P-UY8fT_4sAf"
      }
    },
    {
      "cell_type": "code",
      "source": [
        "def f(x,y):\n",
        "  return x+y"
      ],
      "metadata": {
        "id": "BBRKoCr55C-C"
      },
      "execution_count": null,
      "outputs": []
    },
    {
      "cell_type": "code",
      "source": [
        "f(1,2)"
      ],
      "metadata": {
        "colab": {
          "base_uri": "https://localhost:8080/"
        },
        "id": "Lt3rftXx9ALK",
        "outputId": "f66eb65e-0968-4fa9-b907-4281a91b854f"
      },
      "execution_count": null,
      "outputs": [
        {
          "output_type": "execute_result",
          "data": {
            "text/plain": [
              "3"
            ]
          },
          "metadata": {},
          "execution_count": 37
        }
      ]
    },
    {
      "cell_type": "code",
      "source": [
        "(lambda x,y: x+y)(1,5)"
      ],
      "metadata": {
        "colab": {
          "base_uri": "https://localhost:8080/"
        },
        "id": "zD74LIU99Aro",
        "outputId": "00cfd27b-1d4a-483c-ee35-0a096bfd9e14"
      },
      "execution_count": null,
      "outputs": [
        {
          "output_type": "execute_result",
          "data": {
            "text/plain": [
              "6"
            ]
          },
          "metadata": {},
          "execution_count": 38
        }
      ]
    },
    {
      "cell_type": "code",
      "source": [
        "g = lambda x,y: x+y"
      ],
      "metadata": {
        "id": "jSc0APZ59JVA"
      },
      "execution_count": null,
      "outputs": []
    },
    {
      "cell_type": "code",
      "source": [
        "g(1,6)"
      ],
      "metadata": {
        "colab": {
          "base_uri": "https://localhost:8080/"
        },
        "id": "CraQ_yis9W3S",
        "outputId": "87884fe5-fd55-49a7-c1ea-edd0ee924e44"
      },
      "execution_count": null,
      "outputs": [
        {
          "output_type": "execute_result",
          "data": {
            "text/plain": [
              "7"
            ]
          },
          "metadata": {},
          "execution_count": 40
        }
      ]
    },
    {
      "cell_type": "code",
      "source": [
        "h = lambda :0"
      ],
      "metadata": {
        "id": "8iliDRrF9Xta"
      },
      "execution_count": null,
      "outputs": []
    },
    {
      "cell_type": "code",
      "source": [
        "h()"
      ],
      "metadata": {
        "colab": {
          "base_uri": "https://localhost:8080/"
        },
        "id": "GJZShtKq9cg7",
        "outputId": "57905e3e-79a4-40a7-c02b-ca197a241912"
      },
      "execution_count": null,
      "outputs": [
        {
          "output_type": "execute_result",
          "data": {
            "text/plain": [
              "0"
            ]
          },
          "metadata": {},
          "execution_count": 42
        }
      ]
    },
    {
      "cell_type": "code",
      "source": [
        "power_1 = lambda x: x*x"
      ],
      "metadata": {
        "id": "w2ASqJ0e9wTv"
      },
      "execution_count": null,
      "outputs": []
    },
    {
      "cell_type": "code",
      "source": [
        "power_1(3)"
      ],
      "metadata": {
        "colab": {
          "base_uri": "https://localhost:8080/"
        },
        "id": "091kDnCy95z3",
        "outputId": "04f61007-382b-492e-b021-2913afe44b36"
      },
      "execution_count": null,
      "outputs": [
        {
          "output_type": "execute_result",
          "data": {
            "text/plain": [
              "9"
            ]
          },
          "metadata": {},
          "execution_count": 44
        }
      ]
    },
    {
      "cell_type": "code",
      "source": [
        "under_1 = lambda x: x<3"
      ],
      "metadata": {
        "id": "QVojDwAJ-Qhk"
      },
      "execution_count": null,
      "outputs": []
    },
    {
      "cell_type": "code",
      "source": [
        "under_1(2)"
      ],
      "metadata": {
        "colab": {
          "base_uri": "https://localhost:8080/"
        },
        "id": "CvkDUL6p-Z2E",
        "outputId": "74cfa65c-bd4a-4864-ffbf-26d28f57d35a"
      },
      "execution_count": null,
      "outputs": [
        {
          "output_type": "execute_result",
          "data": {
            "text/plain": [
              "True"
            ]
          },
          "metadata": {},
          "execution_count": 46
        }
      ]
    },
    {
      "cell_type": "code",
      "source": [
        "def func_1():\n",
        "  return 0"
      ],
      "metadata": {
        "id": "DSM4-9Zm-dGM"
      },
      "execution_count": null,
      "outputs": []
    },
    {
      "cell_type": "code",
      "source": [
        "func_1(0)"
      ],
      "metadata": {
        "colab": {
          "base_uri": "https://localhost:8080/",
          "height": 176
        },
        "id": "kLzzr9dg_XZS",
        "outputId": "df1529ad-7807-4387-a5f7-749a52fc2e03"
      },
      "execution_count": null,
      "outputs": [
        {
          "output_type": "error",
          "ename": "TypeError",
          "evalue": "ignored",
          "traceback": [
            "\u001b[0;31m---------------------------------------------------------------------------\u001b[0m",
            "\u001b[0;31mTypeError\u001b[0m                                 Traceback (most recent call last)",
            "\u001b[0;32m<ipython-input-48-d3f3940397f2>\u001b[0m in \u001b[0;36m<module>\u001b[0;34m()\u001b[0m\n\u001b[0;32m----> 1\u001b[0;31m \u001b[0mfunc_1\u001b[0m\u001b[0;34m(\u001b[0m\u001b[0;36m0\u001b[0m\u001b[0;34m)\u001b[0m\u001b[0;34m\u001b[0m\u001b[0;34m\u001b[0m\u001b[0m\n\u001b[0m",
            "\u001b[0;31mTypeError\u001b[0m: func_1() takes 0 positional arguments but 1 was given"
          ]
        }
      ]
    },
    {
      "cell_type": "code",
      "source": [
        "func_1()"
      ],
      "metadata": {
        "id": "2SbdB0M5_Ynz"
      },
      "execution_count": null,
      "outputs": []
    },
    {
      "cell_type": "code",
      "source": [
        "lm = lambda : 0"
      ],
      "metadata": {
        "id": "cM0hGsz9_bPn"
      },
      "execution_count": null,
      "outputs": []
    },
    {
      "cell_type": "code",
      "source": [
        "lm()"
      ],
      "metadata": {
        "id": "sbRC2U8Y_ezM"
      },
      "execution_count": null,
      "outputs": []
    },
    {
      "cell_type": "code",
      "source": [
        "lm(1)"
      ],
      "metadata": {
        "id": "f0xqQOPu_hfO"
      },
      "execution_count": null,
      "outputs": []
    },
    {
      "cell_type": "code",
      "source": [
        "# 함수의 매개변수로 함수 전달\n",
        "# 1급시민이라서\n",
        "\n",
        "def call100(func):\n",
        "  for i in range(100):\n",
        "    func()"
      ],
      "metadata": {
        "id": "rtMDo4-0_ith"
      },
      "execution_count": null,
      "outputs": []
    },
    {
      "cell_type": "code",
      "source": [
        "def print_hello():\n",
        "  print(\"안녕하세요\")"
      ],
      "metadata": {
        "id": "BBHrqPEmAbvZ"
      },
      "execution_count": null,
      "outputs": []
    },
    {
      "cell_type": "code",
      "source": [
        "call100(print_hello)"
      ],
      "metadata": {
        "id": "nC8XeSEtAgKL"
      },
      "execution_count": null,
      "outputs": []
    },
    {
      "cell_type": "markdown",
      "source": [
        "# map() 함수\n",
        "- 리스트, 튜플과 같은 시퀀스 자료형의 각요소에 동일한 function을 적용하는 함수\n",
        "- map 함수, lambda 대신 list comprehension 을 권장한다. \n",
        "```\n",
        "map(<function_name>, <element>)\n",
        "```"
      ],
      "metadata": {
        "id": "b4KY__xSAj1B"
      }
    },
    {
      "cell_type": "code",
      "source": [
        "list_1 = [1,2,3,4,5]\n",
        "def func_2(x):\n",
        "  return x*x # x**2"
      ],
      "metadata": {
        "id": "MJClNfnaBWUZ"
      },
      "execution_count": null,
      "outputs": []
    },
    {
      "cell_type": "code",
      "source": [
        "list(map(func_2, list_1))"
      ],
      "metadata": {
        "id": "1SAwTXoSBkDd"
      },
      "execution_count": null,
      "outputs": []
    },
    {
      "cell_type": "code",
      "source": [
        "[x ** 2 for x in list_1]"
      ],
      "metadata": {
        "id": "yKPCjW4zBnWv"
      },
      "execution_count": null,
      "outputs": []
    },
    {
      "cell_type": "code",
      "source": [
        "lam_1 = lambda x: x+1"
      ],
      "metadata": {
        "id": "Go1tLn9lCEN5"
      },
      "execution_count": null,
      "outputs": []
    },
    {
      "cell_type": "code",
      "source": [
        "list(map(lam_1, list_1))"
      ],
      "metadata": {
        "id": "6oXkwh5VEu2r"
      },
      "execution_count": null,
      "outputs": []
    },
    {
      "cell_type": "code",
      "source": [
        "# 여러개의 시퀀스 자료형 사용"
      ],
      "metadata": {
        "id": "27bsu_mlFLDD"
      },
      "execution_count": null,
      "outputs": []
    },
    {
      "cell_type": "code",
      "source": [
        "list_2 = [6,7,8,9,10]"
      ],
      "metadata": {
        "id": "1LQTYKETEw_q"
      },
      "execution_count": null,
      "outputs": []
    },
    {
      "cell_type": "code",
      "source": [
        "lam_2 = lambda x,y : x+y"
      ],
      "metadata": {
        "id": "_hysEso1FJPD"
      },
      "execution_count": null,
      "outputs": []
    },
    {
      "cell_type": "code",
      "source": [
        "list(map(lam_2, list_1,list_2))"
      ],
      "metadata": {
        "id": "metGWhfHFQg9"
      },
      "execution_count": null,
      "outputs": []
    },
    {
      "cell_type": "code",
      "source": [
        "[x+y for x, y in zip(list_1, list_2)]"
      ],
      "metadata": {
        "id": "rECZRS4kFVfS"
      },
      "execution_count": null,
      "outputs": []
    },
    {
      "cell_type": "markdown",
      "source": [
        "# filter() 함수\n",
        "- 반복가능한 객체를 함수에 넣고, return 된 값이 True 인 것만으로 list 구성"
      ],
      "metadata": {
        "id": "hZ95TSkOFimI"
      }
    },
    {
      "cell_type": "code",
      "source": [
        "def under_3(item):\n",
        "  return item < 3"
      ],
      "metadata": {
        "id": "kyJd0gztGFe6"
      },
      "execution_count": null,
      "outputs": []
    },
    {
      "cell_type": "code",
      "source": [
        "under_3(4)"
      ],
      "metadata": {
        "id": "B0EFWanLGUb5"
      },
      "execution_count": null,
      "outputs": []
    },
    {
      "cell_type": "code",
      "source": [
        "list(filter(under_3, list_1))"
      ],
      "metadata": {
        "id": "RWAokZZbGVsL"
      },
      "execution_count": null,
      "outputs": []
    },
    {
      "cell_type": "code",
      "source": [
        "# reduce() \n",
        "# funtools 모듈에 포함\n",
        "# "
      ],
      "metadata": {
        "id": "ymA7kyOFGcP9"
      },
      "execution_count": null,
      "outputs": []
    },
    {
      "cell_type": "code",
      "source": [
        "from functools import reduce\n",
        "\n",
        "reduce(lambda x,y: x+y, list_1)"
      ],
      "metadata": {
        "id": "CoeQ_qppHEE-"
      },
      "execution_count": null,
      "outputs": []
    },
    {
      "cell_type": "code",
      "source": [
        "a, *b = 1,2,3,4,5"
      ],
      "metadata": {
        "id": "PzmcnedSHPqM"
      },
      "execution_count": null,
      "outputs": []
    },
    {
      "cell_type": "code",
      "source": [
        "b"
      ],
      "metadata": {
        "id": "N-atp94sJenZ"
      },
      "execution_count": null,
      "outputs": []
    },
    {
      "cell_type": "code",
      "source": [
        "data = ([1,2], [3,4], [5,6])\n",
        "print(*data)"
      ],
      "metadata": {
        "id": "nSRhRyX-JfbZ"
      },
      "execution_count": null,
      "outputs": []
    },
    {
      "cell_type": "code",
      "source": [
        "print(data)"
      ],
      "metadata": {
        "id": "HiLNvgMTJoNi"
      },
      "execution_count": null,
      "outputs": []
    },
    {
      "cell_type": "markdown",
      "source": [
        "# 데코레이터\n",
        "- 함수를 받아 명령어를 추가한뒤 다시 함수로 반환하는 함수\n",
        "- 함수를 꾸며주는 함수\n",
        "\n",
        "```\n",
        "def <decorator_name>(func): # func 기능을 추가할 대상\n",
        "  def <내부함수 이름>(args):\n",
        "    <function actions>\n",
        "    return func(args)\n",
        "  return <내부함수 이름>\n",
        "```\n"
      ],
      "metadata": {
        "id": "P3OeZT2RJ0EY"
      }
    },
    {
      "cell_type": "code",
      "source": [
        "# 로그인 기능 \n",
        "# 게시판 로그인 기능\n",
        "# 로그인 기능 호출 -> 게시판"
      ],
      "metadata": {
        "id": "xnaaHACqKI4L"
      },
      "execution_count": null,
      "outputs": []
    },
    {
      "cell_type": "code",
      "source": [
        "def freeboard(name):\n",
        "  print(f\"{name}게시판에 접속하였습니다.\")"
      ],
      "metadata": {
        "id": "g8uQ3BoCLTGq"
      },
      "execution_count": null,
      "outputs": []
    },
    {
      "cell_type": "code",
      "source": [
        "freeboard(\"자유\")"
      ],
      "metadata": {
        "id": "GCvmSVrxLdPa"
      },
      "execution_count": null,
      "outputs": []
    },
    {
      "cell_type": "code",
      "source": [
        "# 로그인 기능 구현\n",
        "def login(func):\n",
        "  def login_logic(arg):\n",
        "    print(\"로그인 되었습니다.\")\n",
        "    return func(arg)\n",
        "  return login_logic"
      ],
      "metadata": {
        "id": "v-tsOCg1Lfom"
      },
      "execution_count": null,
      "outputs": []
    },
    {
      "cell_type": "code",
      "source": [
        "login_board = login(freeboard)"
      ],
      "metadata": {
        "id": "WFp_04iRL7xn"
      },
      "execution_count": null,
      "outputs": []
    },
    {
      "cell_type": "code",
      "source": [
        "login_board(\"자유\")"
      ],
      "metadata": {
        "id": "_Z5wwVbaMAAF"
      },
      "execution_count": null,
      "outputs": []
    },
    {
      "cell_type": "markdown",
      "source": [
        "```\n",
        "@데코레이터 적용함수\n",
        "def 데코레이터 적용당할 함수()\n",
        "  return \n",
        "```"
      ],
      "metadata": {
        "id": "1UloAOiMMyf4"
      }
    },
    {
      "cell_type": "code",
      "source": [
        "@login\n",
        "def storeboard(arg):\n",
        "  print(f\"{arg}에 접속하였습니다.\")"
      ],
      "metadata": {
        "id": "GGNtAPCzMMaN"
      },
      "execution_count": null,
      "outputs": []
    },
    {
      "cell_type": "code",
      "source": [
        "storeboard(\"store\")"
      ],
      "metadata": {
        "id": "VI8jJzxnMlJq"
      },
      "execution_count": null,
      "outputs": []
    },
    {
      "cell_type": "code",
      "source": [
        "@login\n",
        "def gameserver(arg):\n",
        "  print(f\"{arg}에 접속하였습니다.\")"
      ],
      "metadata": {
        "id": "1O4IYRLEMoaK"
      },
      "execution_count": null,
      "outputs": []
    },
    {
      "cell_type": "code",
      "source": [
        "gameserver(\"lol\")"
      ],
      "metadata": {
        "id": "kgdYNnPcNJZj"
      },
      "execution_count": null,
      "outputs": []
    },
    {
      "cell_type": "code",
      "source": [
        "def pay_btc(func):\n",
        "  def pay_logic(arg):\n",
        "    print(\"0.00001btc가 지불되었습니다.\")\n",
        "    return func(arg)\n",
        "  return pay_logic"
      ],
      "metadata": {
        "id": "tyoAfTY8NLjf"
      },
      "execution_count": null,
      "outputs": []
    },
    {
      "cell_type": "code",
      "source": [
        "@login\n",
        "@pay_btc\n",
        "def gameserver(arg):\n",
        "  print(f\"{arg}에 접속하였습니다.\")"
      ],
      "metadata": {
        "id": "NsidLwRYNkVV"
      },
      "execution_count": null,
      "outputs": []
    },
    {
      "cell_type": "code",
      "source": [
        "gameserver(\"lol\")"
      ],
      "metadata": {
        "id": "GUB64cytNndi"
      },
      "execution_count": null,
      "outputs": []
    },
    {
      "cell_type": "markdown",
      "source": [
        "# class\n",
        "python 에서 제공하는 기본 데이터 유형\n",
        "- 정수\n",
        "- 실수\n",
        "- 문자\n",
        "- 리스트\n",
        "- 사전\n",
        "- 집합\n",
        "- 블리언\n",
        "\n",
        "type()"
      ],
      "metadata": {
        "id": "k6w77IuNNpP2"
      }
    },
    {
      "cell_type": "code",
      "source": [
        ""
      ],
      "metadata": {
        "id": "EeoiEfmdVHM9"
      },
      "execution_count": null,
      "outputs": []
    },
    {
      "cell_type": "code",
      "source": [
        "str_1 = \"hello\""
      ],
      "metadata": {
        "id": "S-TNgcncS7Sv"
      },
      "execution_count": null,
      "outputs": []
    },
    {
      "cell_type": "code",
      "source": [
        "type(str_1)"
      ],
      "metadata": {
        "id": "SPwvef_uS_N4"
      },
      "execution_count": null,
      "outputs": []
    },
    {
      "cell_type": "code",
      "source": [
        "float_1 = 3.14"
      ],
      "metadata": {
        "id": "qUbT0eUOTAIW"
      },
      "execution_count": null,
      "outputs": []
    },
    {
      "cell_type": "code",
      "source": [
        "type(float_1)"
      ],
      "metadata": {
        "id": "yvMtWS_OTOE1"
      },
      "execution_count": null,
      "outputs": []
    },
    {
      "cell_type": "markdown",
      "source": [
        "# 객체의 특징\n",
        "- 메모리에 올라가면 객체\n",
        "- 객체는 value, type, id 라는 세가지 특성이 존재한다.\n",
        "- value : 메모리에 올라간 값 \"hello\", \"world\", 3.14, 7, []\n",
        "- type : 어느 클래스에 속해있는지\n",
        "- identity : 값과 유형이 같다. 서로 다른 객체일때 구분되는 고유번호"
      ],
      "metadata": {
        "id": "VC61CQk5TQOr"
      }
    },
    {
      "cell_type": "code",
      "source": [
        "a_1 = 1+3j"
      ],
      "metadata": {
        "id": "hV75zJqdWUC7"
      },
      "execution_count": null,
      "outputs": []
    },
    {
      "cell_type": "code",
      "source": [
        "a_1#객체의 value를 호출"
      ],
      "metadata": {
        "id": "KCP1CZzXWb8B"
      },
      "execution_count": null,
      "outputs": []
    },
    {
      "cell_type": "code",
      "source": [
        "type(a_1)# 객체의 유형(class)"
      ],
      "metadata": {
        "id": "YQzOw5o8Wc3_"
      },
      "execution_count": null,
      "outputs": []
    },
    {
      "cell_type": "code",
      "source": [
        "id(a_1) #객체의 id"
      ],
      "metadata": {
        "id": "AY9td5MLWhvB"
      },
      "execution_count": null,
      "outputs": []
    },
    {
      "cell_type": "code",
      "source": [
        "b_1 = 1+3j"
      ],
      "metadata": {
        "id": "zTp58ZglWx-h"
      },
      "execution_count": null,
      "outputs": []
    },
    {
      "cell_type": "code",
      "source": [
        "b_1"
      ],
      "metadata": {
        "id": "N3gHrVR2XATp"
      },
      "execution_count": null,
      "outputs": []
    },
    {
      "cell_type": "code",
      "source": [
        "type(b_1)"
      ],
      "metadata": {
        "id": "womyA06JXDrD"
      },
      "execution_count": null,
      "outputs": []
    },
    {
      "cell_type": "code",
      "source": [
        "id(b_1)"
      ],
      "metadata": {
        "id": "TDM0vgOsXFNg"
      },
      "execution_count": null,
      "outputs": []
    },
    {
      "cell_type": "markdown",
      "source": [
        "# 클래스와 인스턴스의 관계\n",
        "- 객체가 어떤클래스에 속할때, 그 객체를 그 클래스의 instance라고 부른다. \n",
        "- 인스턴스는 클래스에 의해 생성된 객체를 지칭한다.\n",
        "- 상대적인 개념"
      ],
      "metadata": {
        "id": "y6bvVAp6XJZK"
      }
    },
    {
      "cell_type": "code",
      "source": [
        "a = (1,2,3,4)"
      ],
      "metadata": {
        "id": "WPXWXJ-PXrTu"
      },
      "execution_count": null,
      "outputs": []
    },
    {
      "cell_type": "code",
      "source": [
        "isinstance(a, tuple) #어느 class의 instance인지 확인"
      ],
      "metadata": {
        "id": "9OpLmispXjIa"
      },
      "execution_count": null,
      "outputs": []
    },
    {
      "cell_type": "code",
      "source": [
        "# class 를 구현해 보자\n",
        "# 명함을 제작하는 스타트업\n",
        "def print_bus_card(name, email, addr):\n",
        "  print(\"-\"*30)\n",
        "  print(f\"Name : {name}\")\n",
        "  print(f\"Email : {email}\")\n",
        "  print(f\"Addr : {addr}\")\n",
        "  print(\"-\"*30)"
      ],
      "metadata": {
        "id": "z6elBBt7Xs6r"
      },
      "execution_count": null,
      "outputs": []
    },
    {
      "cell_type": "code",
      "source": [
        "print_bus_card(\"myoh\", \"myoh0623@gmail.com\", \"seoul\")"
      ],
      "metadata": {
        "id": "ykdxFTKtYeru"
      },
      "execution_count": null,
      "outputs": []
    },
    {
      "cell_type": "code",
      "source": [
        "name_1 = \"myoh\"\n",
        "email_1 = \"myoh0623@gmail.com\"\n",
        "add_1 = \"seoul\""
      ],
      "metadata": {
        "id": "woBcI7LTYqVI"
      },
      "execution_count": null,
      "outputs": []
    },
    {
      "cell_type": "code",
      "source": [
        "print_bus_card(name_1, email_1, add_1)"
      ],
      "metadata": {
        "id": "CE6q1TNXY-N1"
      },
      "execution_count": null,
      "outputs": []
    },
    {
      "cell_type": "code",
      "source": [
        "name_2 = \"dlwlrma\"\n",
        "email_2 = \"dlwlrma@kakao.com\"\n",
        "add_2 = \"seoul\""
      ],
      "metadata": {
        "id": "TDFaGVZDZBp6"
      },
      "execution_count": null,
      "outputs": []
    },
    {
      "cell_type": "code",
      "source": [
        "print_bus_card(name_2, email_2, add_2)"
      ],
      "metadata": {
        "id": "NO98-gUlZNt8"
      },
      "execution_count": null,
      "outputs": []
    },
    {
      "cell_type": "markdown",
      "source": [
        "# 문제점\n",
        "- 손님이 계속 늘어나고 있다.\n",
        "- 변수명을 계속 추가 해야 할까?\n",
        "- name_list = [name_1, name_2, ..]\n",
        "- email_list = [email_1, email_2, ...]\n",
        "- add_list = [add_1, add_2, ...]\n",
        "\n",
        "# 해결\n",
        "- 객체지향 프로그래밍에서는 객체를 정의하는것으로 문제를 해결한다.\n",
        "- 명함1, 명함2, 명함3, ..."
      ],
      "metadata": {
        "id": "tiuKX1jrZQfn"
      }
    },
    {
      "cell_type": "code",
      "source": [
        "# class 를 정의할때는 class 라는 예약어를 사용한다. \n",
        "# https://docs.python.org/3/tutorial/classes.html\n",
        "class BussinessCard:\n",
        "  pass"
      ],
      "metadata": {
        "id": "Ffo_fEAUZ0Kt"
      },
      "execution_count": null,
      "outputs": []
    },
    {
      "cell_type": "code",
      "source": [
        "# 인스턴스를 생성할때는 다음과 같이 생성한다.\n",
        "# member_1 이라는 인스턴스가 BussinessCard Class 로 부터 생성된다.\n",
        "member_1 = BussinessCard()"
      ],
      "metadata": {
        "id": "8QLZNo1maKyt"
      },
      "execution_count": null,
      "outputs": []
    },
    {
      "cell_type": "code",
      "source": [
        "id(member_1)"
      ],
      "metadata": {
        "id": "_BOf0bl6afiA"
      },
      "execution_count": null,
      "outputs": []
    },
    {
      "cell_type": "code",
      "source": [
        "# self ???\n",
        "class BussinessCard:\n",
        "  def set_info(self, name, email, addr):#set_info 라는 method\n",
        "    self.name = name\n",
        "    self.email = email\n",
        "    self.addr = addr\n",
        "# set_info라는 메소드는 메소드 인자로 부터 전달된 값을 self.name ,... 으로 바인딩 한다. \n",
        "# 클래스를 정의하는 순간에는 우리가 생성할 인스턴스의 이름이 무엇인지 알수 없으므로 self라는 단어를 대신사용하여\n",
        "# self 는 인스턴스 자신을 가르키고, 우선적으로 self라고 지정해둔다."
      ],
      "metadata": {
        "id": "PkSQIPtuak1X"
      },
      "execution_count": null,
      "outputs": []
    },
    {
      "cell_type": "code",
      "source": [
        "member_2 = BussinessCard()"
      ],
      "metadata": {
        "id": "vczSOn5ScWZB"
      },
      "execution_count": null,
      "outputs": []
    },
    {
      "cell_type": "code",
      "source": [
        "member_2.name"
      ],
      "metadata": {
        "id": "VhRaWpxxdDKi"
      },
      "execution_count": null,
      "outputs": []
    },
    {
      "cell_type": "code",
      "source": [
        "member_2.set_info(\"myoh\", \"myoh0623@gmail.com\", \"seoul\")"
      ],
      "metadata": {
        "id": "Js6Nr7VBcbqw"
      },
      "execution_count": null,
      "outputs": []
    },
    {
      "cell_type": "code",
      "source": [
        "member_2.name"
      ],
      "metadata": {
        "id": "51UFumGCc_6a"
      },
      "execution_count": null,
      "outputs": []
    },
    {
      "cell_type": "code",
      "source": [
        "member_2.email"
      ],
      "metadata": {
        "id": "5Y3to2kkdI8J"
      },
      "execution_count": null,
      "outputs": []
    },
    {
      "cell_type": "code",
      "source": [
        "member_2.addr"
      ],
      "metadata": {
        "id": "mAdmumgsdeWa"
      },
      "execution_count": null,
      "outputs": []
    },
    {
      "cell_type": "code",
      "source": [
        "class BussinessCard:\n",
        "  def set_info(self, name, email, addr):#set_info 라는 method\n",
        "    self.name = name\n",
        "    self.email = email\n",
        "    self.addr = addr\n",
        "# 명함을 출력하는 method를 만들어 보세요   \n",
        "  def print_bussiness_card(self):\n",
        "    print(\"-\"*30)\n",
        "    print(f\"Name : {self.name}\")\n",
        "    print(f\"Email : {self.email}\")\n",
        "    print(f\"Addr : {self.addr}\")\n",
        "    print(\"-\"*30)\n",
        "  def print_made_by(self):\n",
        "    print(\"multicampus\")"
      ],
      "metadata": {
        "id": "OU5DIb0jdfpE"
      },
      "execution_count": null,
      "outputs": []
    },
    {
      "cell_type": "code",
      "source": [
        "member_1 = BussinessCard()"
      ],
      "metadata": {
        "id": "1CobI7CcuI7e"
      },
      "execution_count": null,
      "outputs": []
    },
    {
      "cell_type": "code",
      "source": [
        "member_1.set_info(\"myoh\", \"myoh0623@gmail.com\", \"seoul\")#member_1 인스턴스 하위에 set_info 라는 method를 호출"
      ],
      "metadata": {
        "id": "cv9jYw_izRul"
      },
      "execution_count": null,
      "outputs": []
    },
    {
      "cell_type": "code",
      "source": [
        "member_1.name #member_1 인스턴스 하위에 name 이라는 변수"
      ],
      "metadata": {
        "id": "yjqzU34gzhN-"
      },
      "execution_count": null,
      "outputs": []
    },
    {
      "cell_type": "code",
      "source": [
        "member_1.email"
      ],
      "metadata": {
        "id": "mxCWNhaxzi73"
      },
      "execution_count": null,
      "outputs": []
    },
    {
      "cell_type": "code",
      "source": [
        "member_1.addr"
      ],
      "metadata": {
        "id": "nFK9sj89zvZR"
      },
      "execution_count": null,
      "outputs": []
    },
    {
      "cell_type": "code",
      "source": [
        "member_1.print_bussiness_card()"
      ],
      "metadata": {
        "id": "xjqpJSNTzwMW"
      },
      "execution_count": null,
      "outputs": []
    },
    {
      "cell_type": "code",
      "source": [
        "member_1.print_made_by()"
      ],
      "metadata": {
        "id": "GP5ntqShz1Kl"
      },
      "execution_count": null,
      "outputs": []
    },
    {
      "cell_type": "code",
      "source": [
        "class BussinessCard:\n",
        "  def __init__(self, name): # instance가 새로 생성될때 처음 실행되는 method\n",
        "    self.name = name\n",
        "  def set_info(self, email, addr):#set_info 라는 method\n",
        "    self.email = email\n",
        "    self.addr = addr\n",
        "# 명함을 출력하는 method를 만들어 보세요   \n",
        "  def print_bussiness_card(self):\n",
        "    print(\"-\"*30)\n",
        "    print(f\"Name : {self.name}\")\n",
        "    print(f\"Email : {self.email}\")\n",
        "    print(f\"Addr : {self.addr}\")\n",
        "    print(\"-\"*30)\n",
        "  def __str__(self):\n",
        "    return self.name\n",
        "  def print_made_by(self):\n",
        "    print(\"multicampus\")"
      ],
      "metadata": {
        "id": "4l8t4W3v0dFG"
      },
      "execution_count": null,
      "outputs": []
    },
    {
      "cell_type": "code",
      "source": [
        "member_2 = BussinessCard(\"myoh\")"
      ],
      "metadata": {
        "id": "mldThExi1IVX"
      },
      "execution_count": null,
      "outputs": []
    },
    {
      "cell_type": "code",
      "source": [
        "print(member_2)"
      ],
      "metadata": {
        "id": "zIBXKXaC2k9H"
      },
      "execution_count": null,
      "outputs": []
    },
    {
      "cell_type": "code",
      "source": [
        "a = 1"
      ],
      "metadata": {
        "id": "1ZUizj2K2o4m"
      },
      "execution_count": null,
      "outputs": []
    },
    {
      "cell_type": "code",
      "source": [
        "print(1)"
      ],
      "metadata": {
        "id": "-V-Esgy62qk1"
      },
      "execution_count": null,
      "outputs": []
    },
    {
      "cell_type": "code",
      "source": [
        "class make_human():\n",
        "  def __init__(self):\n",
        "    print(\"hi\")\n",
        "  def set_info(self, gender):\n",
        "    self.gender = gender"
      ],
      "metadata": {
        "id": "-tguZqAK1LXq"
      },
      "execution_count": null,
      "outputs": []
    },
    {
      "cell_type": "code",
      "source": [
        "human_1 = make_human()"
      ],
      "metadata": {
        "id": "5c-XVu5N1w8x"
      },
      "execution_count": null,
      "outputs": []
    },
    {
      "cell_type": "code",
      "source": [
        "human_1.set_info(\"man\")"
      ],
      "metadata": {
        "id": "dYwKAp2g1zpp"
      },
      "execution_count": null,
      "outputs": []
    },
    {
      "cell_type": "code",
      "source": [
        "human_1.sex"
      ],
      "metadata": {
        "id": "b0Vb_yi419Ht"
      },
      "execution_count": null,
      "outputs": []
    },
    {
      "cell_type": "code",
      "source": [
        "class Class_1():\n",
        "  def func_1():\n",
        "    print(\"function1\")"
      ],
      "metadata": {
        "id": "ZE8PWVgj1-eL"
      },
      "execution_count": null,
      "outputs": []
    },
    {
      "cell_type": "code",
      "source": [
        "cl = Class_1()"
      ],
      "metadata": {
        "id": "BINrGx-S5Ffa"
      },
      "execution_count": null,
      "outputs": []
    },
    {
      "cell_type": "code",
      "source": [
        "cl.func_1()"
      ],
      "metadata": {
        "id": "sGOj4iU95UeK"
      },
      "execution_count": null,
      "outputs": []
    },
    {
      "cell_type": "code",
      "source": [
        "# method 에 꼭 parameter를 안넣어도 된다. \n",
        "# https://docs.python.org/3/library/functions.html?highlight=staticmethod#staticmethod\n",
        "# https://wikidocs.net/21054\n",
        "class Class_2():\n",
        "  @staticmethod\n",
        "  def func_1():\n",
        "    print(\"function1\")"
      ],
      "metadata": {
        "id": "rB2cGroy5Wvt"
      },
      "execution_count": null,
      "outputs": []
    },
    {
      "cell_type": "code",
      "source": [
        "cl_2 = Class_2()"
      ],
      "metadata": {
        "id": "UtBNn4o35hi4"
      },
      "execution_count": null,
      "outputs": []
    },
    {
      "cell_type": "code",
      "source": [
        "cl_2.func_1()"
      ],
      "metadata": {
        "id": "Du7FZbPI5jTJ"
      },
      "execution_count": null,
      "outputs": []
    },
    {
      "cell_type": "code",
      "source": [
        "# 꼭 self 가 아니어도 된다.\n",
        "# https://wikidocs.net/1742\n",
        "class Class_3():\n",
        "  def __init__(self2, name):\n",
        "    self2.name = name\n",
        "    print(self2.name)"
      ],
      "metadata": {
        "id": "zATbUTtz5k2_"
      },
      "execution_count": null,
      "outputs": []
    },
    {
      "cell_type": "code",
      "source": [
        "cl_3 = Class_3(\"myoh\")"
      ],
      "metadata": {
        "id": "8-QzIjkN53lZ"
      },
      "execution_count": null,
      "outputs": []
    },
    {
      "cell_type": "code",
      "source": [
        "cl_3.name"
      ],
      "metadata": {
        "id": "k0rGU8ax560k"
      },
      "execution_count": null,
      "outputs": []
    },
    {
      "cell_type": "code",
      "source": [
        "# 예제\n",
        "class Student:\n",
        "  def 이름, 수학점수, 국어점수\n",
        "\n",
        "  def 총점\n",
        "\n",
        "  def 평균을 구하는함수\n",
        "\n",
        "  def print 출력할때 출력되는 문자열을 반환하는 함수\n",
        "\n",
        "\n",
        "# students = [Student(\"오민엽\", 87, 98),\n",
        "#     Student(\"아이유\", 92, 98),\n",
        "#     Student(\"아이린\", 76, 96)]\n",
        "\n",
        "# print(\"이름\", \"총점\", \"평균\", sep=\"\\t\")\n",
        "# for student in students:\n",
        "#     # 출력합니다.\n",
        "#     print(student.to_string())\n",
        "\n",
        "# 이름\t총점\t평균\n",
        "# 오민엽\t185\t92.5\n",
        "# 아이유\t190\t95.0\n",
        "# 아이린\t172\t86.0"
      ],
      "metadata": {
        "id": "LX4oCtH359nb"
      },
      "execution_count": null,
      "outputs": []
    },
    {
      "cell_type": "code",
      "source": [
        "class Student:\n",
        "  def __init__(self, name, math, kor):\n",
        "    self.name = name\n",
        "    self.math = math\n",
        "    self.kor = kor\n",
        "\n",
        "  def get_sum(self):\n",
        "    self.sum = self.math + self.kor\n",
        "    return self.sum\n",
        "\n",
        "  def get_avg(self):\n",
        "    self.avg = (self.math+self.kor)/2\n",
        "    return self.avg\n",
        "\n",
        "  def to_string(self):\n",
        "    return f\"{self.name},{self.get_sum()},{self.get_avg()}\"\n",
        "\n",
        "  def __str__(self):\n",
        "    return f\"{self.name},{self.get_sum()},{self.get_avg()}\"    "
      ],
      "metadata": {
        "id": "p9OPvJ9R-ZDj"
      },
      "execution_count": null,
      "outputs": []
    },
    {
      "cell_type": "code",
      "source": [
        "stu1 = Student('someone', 100, 90)"
      ],
      "metadata": {
        "id": "_soaGpjzDxIh"
      },
      "execution_count": null,
      "outputs": []
    },
    {
      "cell_type": "code",
      "source": [
        "stu1.get_avg()"
      ],
      "metadata": {
        "id": "voGH5dGMEV0S"
      },
      "execution_count": null,
      "outputs": []
    },
    {
      "cell_type": "code",
      "source": [
        "stu1.get_sum()"
      ],
      "metadata": {
        "id": "MLHiN8BfFuMH"
      },
      "execution_count": null,
      "outputs": []
    },
    {
      "cell_type": "code",
      "source": [
        "class SoccerPlayer:\n",
        "  def __init__(self, name, position,back_num):\n",
        "    self.name = name\n",
        "    self.position = position\n",
        "    self.back_num = back_num\n",
        "\n",
        "  def change_back_num(self,new_num):\n",
        "    print(f'{self.back_num} -> {new_num}')\n",
        "    self.back_num = new_num\n",
        "\n",
        "  def __str__(self):\n",
        "    return f'hello! my name is {self.name}. I play in {self.position}'"
      ],
      "metadata": {
        "id": "zlAgB89EJ8q2"
      },
      "execution_count": null,
      "outputs": []
    },
    {
      "cell_type": "code",
      "source": [
        "player_1 = SoccerPlayer('Js','wing','10')"
      ],
      "metadata": {
        "id": "D-1Zhvy2KueB"
      },
      "execution_count": null,
      "outputs": []
    },
    {
      "cell_type": "code",
      "source": [
        "player_1.name"
      ],
      "metadata": {
        "id": "idLiSURoK3yB"
      },
      "execution_count": null,
      "outputs": []
    },
    {
      "cell_type": "code",
      "source": [
        "player_1.position"
      ],
      "metadata": {
        "id": "12lRBC_LK7lK"
      },
      "execution_count": null,
      "outputs": []
    },
    {
      "cell_type": "code",
      "source": [
        "player_1.back_num"
      ],
      "metadata": {
        "id": "bQfLpNSIK-uj"
      },
      "execution_count": null,
      "outputs": []
    },
    {
      "cell_type": "code",
      "source": [
        "player_1.change_back_num(17)"
      ],
      "metadata": {
        "id": "i0yNBFVoLCxU"
      },
      "execution_count": null,
      "outputs": []
    },
    {
      "cell_type": "code",
      "source": [
        "print(player_1)"
      ],
      "metadata": {
        "id": "fXaWfeIqLLlH"
      },
      "execution_count": null,
      "outputs": []
    }
  ]
}